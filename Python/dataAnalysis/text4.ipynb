{
 "cells": [
  {
   "cell_type": "code",
   "execution_count": 5,
   "metadata": {},
   "outputs": [],
   "source": [
    "import pandas as pd\n",
    "data = [[110,105,99],[105,88,115],[109,120,130]]\n",
    "index = [1,2,3]\n",
    "columns = ['语文','数学','英语']\n",
    "df = pd.DataFrame(data=data,index=index,columns=columns)\n",
    "df['总成绩']=df.sum(axis=1)"
   ]
  },
  {
   "cell_type": "code",
   "execution_count": 13,
   "metadata": {},
   "outputs": [
    {
     "name": "stdout",
     "output_type": "stream",
     "text": [
      "    语文   数学        英语\n",
      "0  110.0  105.0   99.000000\n",
      "1  105.0   88.0  115.000000\n",
      "2  109.0  120.0  130.000000\n",
      "3  112.0  115.0         NaN\n",
      "4  109.0  107.0  114.666667\n"
     ]
    }
   ],
   "source": [
    "import pandas as pd\n",
    "pd.set_option('display.unicode.east_asian_width', True)\n",
    "\n",
    "data = [[110, 105, 99], [105, 88, 115], [109, 120, 130], [112, 115]]\n",
    "index = [1, 2, 3, 4]\n",
    "columns = ['语文', '数学', '英语']\n",
    "\n",
    "df = pd.DataFrame(data=data, index=index, columns=columns)\n",
    "new = df.mean()\n",
    "new.name = '平均成绩'  # 给新行命名\n",
    "df = pd.concat([df, new.to_frame().T], ignore_index=True)\n",
    "print(df)\n"
   ]
  },
  {
   "cell_type": "code",
   "execution_count": 19,
   "metadata": {},
   "outputs": [
    {
     "name": "stdout",
     "output_type": "stream",
     "text": [
      "    语文   数学   英语\n",
      "0  110.0  105.0   99.0\n",
      "1  105.0   88.0  115.0\n",
      "2  109.0  120.0  130.0\n",
      "3  112.0  115.0    NaN\n",
      "4  112.0  120.0  130.0\n"
     ]
    }
   ],
   "source": [
    "import pandas as pd\n",
    "pd.set_option('display.unicode.east_asian_width', True)\n",
    "data = [[110,105,99],[105,88,115],[109,120,130],[112,115]]\n",
    "index =[1,2,3,4]\n",
    "\n",
    "columns = ['语文','数学','英语']\n",
    "\n",
    "df = pd.DataFrame(data=data,index=index,columns=columns)\n",
    "new=df.max()\n",
    "df = pd.concat([df, new.to_frame().T], ignore_index=True)\n",
    "\n",
    "print(df)"
   ]
  },
  {
   "cell_type": "code",
   "execution_count": 18,
   "metadata": {},
   "outputs": [
    {
     "name": "stdout",
     "output_type": "stream",
     "text": [
      "    语文   数学   英语\n",
      "0  110.0  105.0   99.0\n",
      "1  105.0   88.0  115.0\n",
      "2  109.0  120.0  130.0\n",
      "3  112.0  115.0    NaN\n",
      "4  105.0   88.0   99.0\n"
     ]
    }
   ],
   "source": [
    "import pandas as pd\n",
    "pd.set_option('display.unicode.east_asian_width', True)\n",
    "data = [[110,105,99],[105,88,115],[109,120,130],[112,115]]\n",
    "index =[1,2,3,4]\n",
    "\n",
    "columns = ['语文','数学','英语']\n",
    "\n",
    "df = pd.DataFrame(data=data,index=index,columns=columns)\n",
    "new=df.min()\n",
    "df = pd.concat([df, new.to_frame().T], ignore_index=True)\n",
    "\n",
    "print(df)"
   ]
  },
  {
   "cell_type": "code",
   "execution_count": 24,
   "metadata": {},
   "outputs": [
    {
     "name": "stdout",
     "output_type": "stream",
     "text": [
      "语文    130.0\n",
      "数学    120.0\n",
      "英语    130.0\n",
      "dtype: float64\n"
     ]
    }
   ],
   "source": [
    "import pandas as pd\n",
    "data = [[110,120,110],[130,130,130],[130,120,130]]\n",
    "columns = ['语文','数学','英语']\n",
    "\n",
    "df=pd.DataFrame(data=data,columns=columns)\n",
    "print(df.median())\n"
   ]
  },
  {
   "cell_type": "code",
   "execution_count": 25,
   "metadata": {},
   "outputs": [
    {
     "name": "stdout",
     "output_type": "stream",
     "text": [
      "语文    121.5\n",
      "数学    121.5\n",
      "英语    120.0\n",
      "dtype: float64\n"
     ]
    }
   ],
   "source": [
    "import pandas as pd\n",
    "data = [[110,120,110],[130,130,130],[130,120,130],[113,123,101]]\n",
    "columns = ['语文','数学','英语']\n",
    "\n",
    "df=pd.DataFrame(data=data,columns=columns)\n",
    "print(df.median())\n"
   ]
  },
  {
   "cell_type": "code",
   "execution_count": 30,
   "metadata": {},
   "outputs": [
    {
     "name": "stdout",
     "output_type": "stream",
     "text": [
      "   语文  数学  英语\n",
      "0   130   120   130\n",
      "     0\n",
      "0  110\n",
      "1  130\n",
      "2  130\n",
      "0    120\n",
      "Name: 数学, dtype: int64\n"
     ]
    },
    {
     "ename": "",
     "evalue": "",
     "output_type": "error",
     "traceback": [
      "\u001b[1;31m在当前单元格或上一个单元格中执行代码时 Kernel 崩溃。请查看单元格中的代码，以确定故障的可能原因。有关详细信息，请单击 <a href='https://aka.ms/vscodeJupyterKernelCrash'>此处</a>。有关更多详细信息，请查看 Jupyter <a href='command:jupyter.viewOutput'>log</a>。"
     ]
    }
   ],
   "source": [
    "import pandas as pd\n",
    "pd.set_option('display.unicode.east_asian_width', True)\n",
    "data = [[110,120,110],[130,130,130],[130,120,130]]\n",
    "columns = ['语文','数学','英语']\n",
    "df=pd.DataFrame(data=data,columns=columns)\n",
    "print(df.mode())\n",
    "\n",
    "print(df.mode(axis=1))\n",
    "\n",
    "print(df['数学'].mode())"
   ]
  }
 ],
 "metadata": {
  "kernelspec": {
   "display_name": ".venv",
   "language": "python",
   "name": "python3"
  },
  "language_info": {
   "codemirror_mode": {
    "name": "ipython",
    "version": 3
   },
   "file_extension": ".py",
   "mimetype": "text/x-python",
   "name": "python",
   "nbconvert_exporter": "python",
   "pygments_lexer": "ipython3",
   "version": "3.11.5"
  }
 },
 "nbformat": 4,
 "nbformat_minor": 2
}
