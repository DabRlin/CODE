{
 "cells": [
  {
   "cell_type": "markdown",
   "metadata": {},
   "source": [
    "快速示例1"
   ]
  },
  {
   "cell_type": "code",
   "execution_count": 2,
   "metadata": {},
   "outputs": [
    {
     "name": "stdout",
     "output_type": "stream",
     "text": [
      "    语文   数学   英语\n",
      "1  110  105   99\n",
      "2  105   88  115\n",
      "3  109  120  130\n"
     ]
    }
   ],
   "source": [
    "import pandas as pd\n",
    "\n",
    "# 创建一个包含成绩数据的列表\n",
    "data = [[110, 105, 99], [105, 88, 115], [109, 120, 130]]\n",
    "\n",
    "# 定义行索引\n",
    "index = [1, 2, 3]\n",
    "\n",
    "# 定义列索引（科目名称）\n",
    "columns = ['语文', '数学', '英语']\n",
    "\n",
    "# 使用 Pandas 创建 DataFrame\n",
    "df = pd.DataFrame(data=data, index=index, columns=columns)\n",
    "\n",
    "# 打印 DataFrame\n",
    "print(df)\n"
   ]
  },
  {
   "cell_type": "markdown",
   "metadata": {},
   "source": [
    "快速示例2"
   ]
  },
  {
   "cell_type": "code",
   "execution_count": 8,
   "metadata": {},
   "outputs": [
    {
     "name": "stdout",
     "output_type": "stream",
     "text": [
      "       语文   数学   英语           0\n",
      "1     110.0  105.0   99.0         NaN\n",
      "2     105.0   88.0  115.0         NaN\n",
      "3     109.0  120.0  130.0         NaN\n",
      "4     112.0  115.0    NaN         NaN\n",
      "语文    NaN    NaN    NaN  109.000000\n",
      "数学    NaN    NaN    NaN  107.000000\n",
      "英语    NaN    NaN    NaN  114.666667\n"
     ]
    }
   ],
   "source": [
    "import pandas as pd\n",
    "\n",
    "# 设置显示选项，确保中文宽度正常显示\n",
    "pd.set_option('display.unicode.east_asian_width', True)\n",
    "\n",
    "# 成绩数据\n",
    "data = [[110, 105, 99], [105, 88, 115], [109, 120, 130], [112, 115]]\n",
    "\n",
    "# 行索引\n",
    "index = [1, 2, 3, 4]\n",
    "\n",
    "# 列索引（科目名称）\n",
    "columns = ['语文', '数学', '英语']\n",
    "\n",
    "# 创建 DataFrame\n",
    "df = pd.DataFrame(data=data, index=index, columns=columns)\n",
    "\n",
    "# 计算每个科目的平均值\n",
    "new = df.mean()\n",
    "\n",
    "# 将平均值添加为新的一行\n",
    "df = pd.concat([df, new])\n",
    "\n",
    "# 打印 DataFrame\n",
    "print(df)\n"
   ]
  },
  {
   "cell_type": "markdown",
   "metadata": {},
   "source": [
    "快速示例3"
   ]
  },
  {
   "cell_type": "code",
   "execution_count": 10,
   "metadata": {},
   "outputs": [
    {
     "name": "stdout",
     "output_type": "stream",
     "text": [
      "       语文   数学   英语      0\n",
      "1     110.0  105.0   99.0    NaN\n",
      "2     105.0   88.0  115.0    NaN\n",
      "3     109.0  120.0  130.0    NaN\n",
      "4     112.0  115.0    NaN    NaN\n",
      "语文    NaN    NaN    NaN  112.0\n",
      "数学    NaN    NaN    NaN  120.0\n",
      "英语    NaN    NaN    NaN  130.0\n"
     ]
    }
   ],
   "source": [
    "import pandas as pd\n",
    "\n",
    "# 设置显示选项，确保中文宽度正常显示\n",
    "pd.set_option('display.unicode.east_asian_width', True)\n",
    "\n",
    "# 成绩数据\n",
    "data = [[110, 105, 99], [105, 88, 115], [109, 120, 130], [112, 115]]\n",
    "\n",
    "# 行索引\n",
    "index = [1, 2, 3, 4]\n",
    "\n",
    "# 列索引（科目名称）\n",
    "columns = ['语文', '数学', '英语']\n",
    "\n",
    "# 创建 DataFrame\n",
    "df = pd.DataFrame(data=data, index=index, columns=columns)\n",
    "\n",
    "# 计算每个科目的最大值\n",
    "new = df.max()\n",
    "\n",
    "# 将最大值添加为新的一行\n",
    "df = pd.concat([df, new])\n",
    "\n",
    "# 打印 DataFrame\n",
    "print(df)\n"
   ]
  },
  {
   "cell_type": "markdown",
   "metadata": {},
   "source": [
    "快速示例4"
   ]
  },
  {
   "cell_type": "code",
   "execution_count": 11,
   "metadata": {},
   "outputs": [
    {
     "name": "stdout",
     "output_type": "stream",
     "text": [
      "       语文   数学   英语      0\n",
      "1     110.0  105.0   99.0    NaN\n",
      "2     105.0   88.0  115.0    NaN\n",
      "3     109.0  120.0  130.0    NaN\n",
      "4     112.0  115.0    NaN    NaN\n",
      "语文    NaN    NaN    NaN  105.0\n",
      "数学    NaN    NaN    NaN   88.0\n",
      "英语    NaN    NaN    NaN   99.0\n"
     ]
    }
   ],
   "source": [
    "import pandas as pd\n",
    "\n",
    "# 设置显示选项，确保中文宽度正常显示\n",
    "pd.set_option('display.unicode.east_asian_width', True)\n",
    "\n",
    "# 成绩数据\n",
    "data = [[110, 105, 99], [105, 88, 115], [109, 120, 130], [112, 115]]\n",
    "\n",
    "# 行索引\n",
    "index = [1, 2, 3, 4]\n",
    "\n",
    "# 列索引（科目名称）\n",
    "columns = ['语文', '数学', '英语']\n",
    "\n",
    "# 创建 DataFrame\n",
    "df = pd.DataFrame(data=data, index=index, columns=columns)\n",
    "\n",
    "# 计算每个科目的最小值\n",
    "new = df.min()\n",
    "\n",
    "# 将最小值添加为新的一行\n",
    "df = pd.concat([df, new])\n",
    "\n",
    "# 打印 DataFrame\n",
    "print(df)\n"
   ]
  },
  {
   "cell_type": "markdown",
   "metadata": {},
   "source": [
    "快速示例5"
   ]
  },
  {
   "cell_type": "code",
   "execution_count": null,
   "metadata": {},
   "outputs": [],
   "source": [
    "import pandas as pd\n",
    "\n",
    "# 成绩数据\n",
    "data = [[110, 120, 110], [130, 130, 130], [130, 120, 130]]\n",
    "\n",
    "# 列索引（科目名称）\n",
    "columns = ['语文', '数学', '英语']\n",
    "\n",
    "# 创建 DataFrame\n",
    "df = pd.DataFrame(data, columns=columns)\n",
    "\n",
    "# 打印每个科目的中位数\n",
    "print(df.median())\n"
   ]
  },
  {
   "cell_type": "markdown",
   "metadata": {},
   "source": [
    "快速示例6"
   ]
  },
  {
   "cell_type": "code",
   "execution_count": null,
   "metadata": {},
   "outputs": [],
   "source": [
    "import pandas as pd\n",
    "\n",
    "# 成绩数据\n",
    "data = [[110, 120, 110], [130, 130, 130], [130, 120, 130], [113, 123, 101]]\n",
    "\n",
    "# 列索引（科目名称）\n",
    "columns = ['语文', '数学', '英语']\n",
    "\n",
    "# 创建 DataFrame\n",
    "df = pd.DataFrame(data, columns=columns)\n",
    "\n",
    "# 打印每个科目的中位数\n",
    "print(df.median())\n"
   ]
  },
  {
   "cell_type": "markdown",
   "metadata": {},
   "source": [
    "快速示例7"
   ]
  },
  {
   "cell_type": "code",
   "execution_count": 12,
   "metadata": {},
   "outputs": [
    {
     "name": "stdout",
     "output_type": "stream",
     "text": [
      "   语文  数学  英语\n",
      "0   130   120   130\n",
      "     0\n",
      "0  110\n",
      "1  130\n",
      "2  130\n",
      "0    120\n",
      "Name: 数学, dtype: int64\n"
     ]
    }
   ],
   "source": [
    "import pandas as pd\n",
    "\n",
    "# 设置显示选项，确保中文宽度正常显示\n",
    "pd.set_option('display.unicode.east_asian_width', True)\n",
    "\n",
    "# 成绩数据\n",
    "data = [[110, 120, 110], [130, 130, 130], [130, 120, 130]]\n",
    "\n",
    "# 列索引（科目名称）\n",
    "columns = ['语文', '数学', '英语']\n",
    "\n",
    "# 创建 DataFrame\n",
    "df = pd.DataFrame(data=data, columns=columns)\n",
    "\n",
    "# 打印数据集的众数\n",
    "print(\"数据集的众数：\")\n",
    "print(df.mode())\n",
    "\n",
    "# 打印每行的众数\n",
    "print(\"\\n每行的众数：\")\n",
    "print(df.mode(axis=1))\n",
    "\n",
    "# 打印 '数学' 列的众数\n",
    "print(\"\\n'数学' 列的众数：\")\n",
    "print(df['数学'].mode())\n"
   ]
  },
  {
   "cell_type": "markdown",
   "metadata": {},
   "source": [
    "快速示例8"
   ]
  },
  {
   "cell_type": "code",
   "execution_count": 13,
   "metadata": {},
   "outputs": [
    {
     "name": "stdout",
     "output_type": "stream",
     "text": [
      "小黑     15.7\n",
      "小白    237.3\n",
      "dtype: float64\n"
     ]
    }
   ],
   "source": [
    "import pandas as pd\n",
    "\n",
    "# 设置显示选项，确保中文宽度正常显示\n",
    "pd.set_option('display.unicode.east_asian_width', True)\n",
    "\n",
    "# 学生成绩数据\n",
    "data = [[110, 113, 103, 105, 108], [118, 98, 119, 85, 118]]\n",
    "\n",
    "# 行索引（学生名称）\n",
    "index = ['小黑', '小白']\n",
    "\n",
    "# 列索引（物理考试次数）\n",
    "columns = ['物理1', '物理2', '物理3', '物理4', '物理5']\n",
    "\n",
    "# 创建 DataFrame\n",
    "df = pd.DataFrame(data=data, index=index, columns=columns)\n",
    "\n",
    "# 计算每个学生物理成绩的方差\n",
    "variances = df.var(axis=1)\n",
    "\n",
    "# 打印方差\n",
    "print(variances)\n"
   ]
  },
  {
   "cell_type": "markdown",
   "metadata": {},
   "source": [
    "快速示例9"
   ]
  },
  {
   "cell_type": "code",
   "execution_count": 14,
   "metadata": {},
   "outputs": [
    {
     "name": "stdout",
     "output_type": "stream",
     "text": [
      "语文    11.547005\n",
      "数学     5.773503\n",
      "英语    11.547005\n",
      "dtype: float64\n"
     ]
    }
   ],
   "source": [
    "import pandas as pd\n",
    "\n",
    "# 设置显示选项，确保中文宽度正常显示\n",
    "pd.set_option('display.unicode.east_asian_width', True)\n",
    "\n",
    "# 成绩数据\n",
    "data = [[110, 120, 110], [130, 130, 130], [130, 120, 130]]\n",
    "\n",
    "# 列索引（科目名称）\n",
    "columns = ['语文', '数学', '英语']\n",
    "\n",
    "# 创建 DataFrame\n",
    "df = pd.DataFrame(data=data, columns=columns)\n",
    "\n",
    "# 计算每个科目成绩的标准差\n",
    "std_deviation = df.std()\n",
    "\n",
    "# 打印标准差\n",
    "print(std_deviation)\n"
   ]
  },
  {
   "cell_type": "markdown",
   "metadata": {},
   "source": [
    "快速示例10"
   ]
  },
  {
   "cell_type": "code",
   "execution_count": 15,
   "metadata": {},
   "outputs": [
    {
     "name": "stdout",
     "output_type": "stream",
     "text": [
      "   数学\n",
      "3    78\n",
      "4    65\n",
      "7    56\n",
      "9    45\n"
     ]
    }
   ],
   "source": [
    "import pandas as pd\n",
    "\n",
    "# 数学成绩数据\n",
    "data = [120, 89, 98, 78, 65, 102, 112, 56, 79, 45]\n",
    "\n",
    "# 列索引（科目名称）\n",
    "columns = ['数学']\n",
    "\n",
    "# 创建 DataFrame\n",
    "df = pd.DataFrame(data=data, columns=columns)\n",
    "\n",
    "# 计算数学成绩的分位数（35% 分位）\n",
    "x = df['数学'].quantile(0.35)\n",
    "\n",
    "# 打印数学成绩小于等于分位数的数据\n",
    "print(df[df['数学'] <= x])\n"
   ]
  },
  {
   "cell_type": "markdown",
   "metadata": {},
   "source": [
    "快速示例11"
   ]
  },
  {
   "cell_type": "code",
   "execution_count": 17,
   "metadata": {},
   "outputs": [
    {
     "name": "stdout",
     "output_type": "stream",
     "text": [
      "A                    1.5\n",
      "B    2019-07-02 12:00:00\n",
      "C        1 days 12:00:00\n",
      "Name: 0.5, dtype: object\n"
     ]
    }
   ],
   "source": [
    "import pandas as pd\n",
    "\n",
    "# 创建包含不同类型数据的 DataFrame\n",
    "df = pd.DataFrame({\n",
    "    'A': [1, 2],\n",
    "    'B': [pd.Timestamp('2019'), pd.Timestamp('2020')],\n",
    "    'C': [pd.Timedelta('1 days'), pd.Timedelta('2 days')]\n",
    "})\n",
    "\n",
    "# 计算 DataFrame 的分位数（包括非数值列）\n",
    "quantile_result = df.quantile(0.5, numeric_only=False)\n",
    "\n",
    "# 打印分位数结果\n",
    "print(quantile_result)\n"
   ]
  },
  {
   "cell_type": "markdown",
   "metadata": {},
   "source": [
    "快速示例12"
   ]
  },
  {
   "cell_type": "code",
   "execution_count": 18,
   "metadata": {},
   "outputs": [
    {
     "name": "stdout",
     "output_type": "stream",
     "text": [
      "         A1        A2        A3        A4        A5\n",
      "0  0.795592  0.642856  0.847724  0.326861  0.749293\n",
      "1  0.789680  0.538977  0.054058  0.250520  0.488154\n",
      "2  0.530716  0.824921  0.910651  0.693530  0.131051\n",
      "3  0.813376  0.884730  0.802800  0.527257  0.649826\n",
      "4  0.546036  0.776462  0.799256  0.776638  0.822566\n",
      "     A1    A2    A3    A4    A5\n",
      "0  0.80  0.64  0.85  0.33  0.75\n",
      "1  0.79  0.54  0.05  0.25  0.49\n",
      "2  0.53  0.82  0.91  0.69  0.13\n",
      "3  0.81  0.88  0.80  0.53  0.65\n",
      "4  0.55  0.78  0.80  0.78  0.82\n",
      "    A1    A2        A3        A4        A5\n",
      "0  0.8  0.64  0.847724  0.326861  0.749293\n",
      "1  0.8  0.54  0.054058  0.250520  0.488154\n",
      "2  0.5  0.82  0.910651  0.693530  0.131051\n",
      "3  0.8  0.88  0.802800  0.527257  0.649826\n",
      "4  0.5  0.78  0.799256  0.776638  0.822566\n",
      "    A1   A2    A3        A4        A5\n",
      "0  0.8  1.0  0.85  0.326861  0.749293\n",
      "1  0.8  1.0  0.05  0.250520  0.488154\n",
      "2  0.5  1.0  0.91  0.693530  0.131051\n",
      "3  0.8  1.0  0.80  0.527257  0.649826\n",
      "4  0.5  1.0  0.80  0.776638  0.822566\n"
     ]
    }
   ],
   "source": [
    "import pandas as pd\n",
    "import numpy as np\n",
    "\n",
    "# 创建一个 5x5 的随机数 DataFrame\n",
    "df = pd.DataFrame(np.random.random([5, 5]),\n",
    "                  columns=['A1', 'A2', 'A3', 'A4', 'A5'])\n",
    "\n",
    "# 打印原始 DataFrame\n",
    "print(\"原始 DataFrame:\")\n",
    "print(df)\n",
    "\n",
    "# 将 DataFrame 中的所有元素保留两位小数\n",
    "print(\"\\n保留两位小数:\")\n",
    "print(df.round(2))\n",
    "\n",
    "# 将 DataFrame 中的 'A1' 列保留一位小数，'A2' 列保留两位小数\n",
    "print(\"\\n按列保留不同位数:\")\n",
    "print(df.round({'A1': 1, 'A2': 2}))\n",
    "\n",
    "# 创建一个包含权重值的 Series\n",
    "s1 = pd.Series([1, 0, 2], index=['A1', 'A2', 'A3'])\n",
    "\n",
    "# 使用 Series 中的权重值，对 DataFrame 的各列进行不同位数的保留\n",
    "print(\"\\n按权重保留不同位数:\")\n",
    "print(df.round(s1))\n"
   ]
  },
  {
   "cell_type": "code",
   "execution_count": null,
   "metadata": {},
   "outputs": [],
   "source": [
    "快速示例13"
   ]
  },
  {
   "cell_type": "code",
   "execution_count": 21,
   "metadata": {},
   "outputs": [
    {
     "name": "stdout",
     "output_type": "stream",
     "text": [
      "         A1        A2        A3        A4        A5 百分比\n",
      "0  0.286441  0.551239  0.938848  0.793673  0.609991    29%\n",
      "1  0.034354  0.145285  0.900375  0.633369  0.993818     3%\n",
      "2  0.189496  0.975281  0.518201  0.752089  0.815940    19%\n",
      "3  0.796823  0.663479  0.158544  0.783587  0.150869    80%\n",
      "4  0.233046  0.770262  0.570405  0.353425  0.880950    23%\n",
      "         A1        A2        A3        A4        A5  百分比\n",
      "0  0.286441  0.551239  0.938848  0.793673  0.609991  28.64%\n",
      "1  0.034354  0.145285  0.900375  0.633369  0.993818   3.44%\n",
      "2  0.189496  0.975281  0.518201  0.752089  0.815940  18.95%\n",
      "3  0.796823  0.663479  0.158544  0.783587  0.150869  79.68%\n",
      "4  0.233046  0.770262  0.570405  0.353425  0.880950  23.30%\n",
      "         A1        A2        A3        A4        A5 百分比\n",
      "0  0.286441  0.551239  0.938848  0.793673  0.609991    29%\n",
      "1  0.034354  0.145285  0.900375  0.633369  0.993818     3%\n",
      "2  0.189496  0.975281  0.518201  0.752089  0.815940    19%\n",
      "3  0.796823  0.663479  0.158544  0.783587  0.150869    80%\n",
      "4  0.233046  0.770262  0.570405  0.353425  0.880950    23%\n"
     ]
    }
   ],
   "source": [
    "import pandas as pd\n",
    "import numpy as np\n",
    "\n",
    "# 创建一个 5x5 的随机数 DataFrame\n",
    "df = pd.DataFrame(np.random.random([5, 5]),\n",
    "                  columns=['A1', 'A2', 'A3', 'A4', 'A5'])\n",
    "\n",
    "# 将 'A1' 列的小数转换为百分比形式（整数部分）\n",
    "df['百分比'] = df['A1'].apply(lambda x: format(x, '.0%'))\n",
    "\n",
    "# 打印结果\n",
    "print(\"整数部分的百分比:\")\n",
    "print(df)\n",
    "\n",
    "# 将 'A1' 列的小数转换为百分比形式（两位小数）\n",
    "df['百分比'] = df['A1'].apply(lambda x: format(x, '.2%'))\n",
    "\n",
    "# 打印结果\n",
    "print(\"\\n两位小数的百分比:\")\n",
    "print(df)\n",
    "\n",
    "# 使用 map 和格式化字符串将 'A1' 列的小数转换为百分比形式（整数部分）\n",
    "df['百分比'] = df['A1'].map(lambda x: '{:.0%}'.format(x))\n",
    "\n",
    "# 打印结果\n",
    "print(\"\\n整数部分的百分比（使用 map）:\")\n",
    "print(df)\n"
   ]
  },
  {
   "cell_type": "markdown",
   "metadata": {},
   "source": [
    "快速示例14"
   ]
  },
  {
   "cell_type": "code",
   "execution_count": 22,
   "metadata": {},
   "outputs": [
    {
     "name": "stdout",
     "output_type": "stream",
     "text": [
      "             图书 月份        码洋\n",
      "0  零基础学python  1月  49,768,889\n",
      "1  零基础学python  2月  11,777,775\n",
      "2  零基础学python  3月  13,799,990\n"
     ]
    }
   ],
   "source": [
    "import pandas as pd\n",
    "\n",
    "# 设置显示选项，确保中文宽度正常显示\n",
    "pd.set_option('display.unicode.east_asian_width', True)\n",
    "\n",
    "# 图书销售信息数据\n",
    "data = [['零基础学python', '1月', 49768889],\n",
    "        ['零基础学python', '2月', 11777775],\n",
    "        ['零基础学python', '3月', 13799990]]\n",
    "\n",
    "# 列索引\n",
    "columns = ['图书', '月份', '码洋']\n",
    "\n",
    "# 创建 DataFrame\n",
    "df = pd.DataFrame(data=data, columns=columns)\n",
    "\n",
    "# 将 '码洋' 列的数值格式化为千位分隔符形式\n",
    "df['码洋'] = df['码洋'].apply(lambda x: format(int(x), ','))\n",
    "\n",
    "# 打印结果\n",
    "print(df)\n"
   ]
  },
  {
   "cell_type": "markdown",
   "metadata": {},
   "source": [
    "快速示例15"
   ]
  },
  {
   "cell_type": "code",
   "execution_count": 26,
   "metadata": {},
   "outputs": [
    {
     "name": "stdout",
     "output_type": "stream",
     "text": [
      "                    7天点击量  订单预定\n",
      "一级分类                               \n",
      "数据库                    186        15\n",
      "移动开发                  261         7\n",
      "编程语言与程序设计       4280       192\n",
      "网页制作/Web技术          345        15\n"
     ]
    }
   ],
   "source": [
    "import pandas as pd\n",
    "\n",
    "# 设置 Pandas 显示选项，确保中文宽度正常显示\n",
    "pd.set_option('display.max_columns', 500)\n",
    "pd.set_option('display.width', 1000)\n",
    "pd.set_option('display.unicode.east_asian_width', True)\n",
    "\n",
    "# 从 CSV 文件中读取数据\n",
    "df = pd.read_csv('JD.csv', encoding='gbk')\n",
    "\n",
    "# 选择感兴趣的列\n",
    "df1 = df[['一级分类', '7天点击量', '订单预定']]\n",
    "\n",
    "# 按一级分类进行分组，并对 '7天点击量' 和 '订单预定' 列进行求和\n",
    "result = df1.groupby('一级分类').sum()\n",
    "\n",
    "# 打印分组计算的结果\n",
    "print(result)\n"
   ]
  },
  {
   "cell_type": "markdown",
   "metadata": {},
   "source": [
    "快速示例16\n"
   ]
  },
  {
   "cell_type": "code",
   "execution_count": 107,
   "metadata": {},
   "outputs": [
    {
     "name": "stdout",
     "output_type": "stream",
     "text": [
      "                                 7天点击量  订单预定\n",
      "一级分类           二级分类                         \n",
      "数据库             Oracle               58         2\n",
      "                   SQL                 128        13\n",
      "移动开发           Android             261         7\n",
      "编程语言与程序设计 ASP.NET              87         2\n",
      "                   C#                  314        12\n",
      "                   C++/C语言           724        28\n",
      "                   JSP/JavaWeb         157         1\n",
      "                   Java                408        16\n",
      "                   PHP                 113         1\n",
      "                   Python             2449       132\n",
      "                   Visual Basic         28         0\n",
      "网页制作/Web技术   HTML                188         8\n",
      "                   JavaScript          100         7\n",
      "                   WEB前端              57         0\n"
     ]
    }
   ],
   "source": [
    "import pandas as pd\n",
    "\n",
    "# 设置 Pandas 显示选项，确保中文宽度正常显示\n",
    "pd.set_option('display.max_columns', 500)\n",
    "pd.set_option('display.width', 1000)\n",
    "pd.set_option('display.unicode.east_asian_width', True)\n",
    "\n",
    "# 从 CSV 文件中读取数据\n",
    "df = pd.read_csv('JD.csv', encoding='gbk')\n",
    "\n",
    "# 选择感兴趣的列\n",
    "df1 = df[['一级分类', '二级分类', '7天点击量', '订单预定']]\n",
    "\n",
    "# 按 '一级分类' 和 '二级分类' 进行多级分组，并对 '7天点击量' 和 '订单预定' 列进行求和\n",
    "result = df1.groupby(['一级分类', '二级分类']).sum()\n",
    "\n",
    "# 打印多级分组计算的结果\n",
    "print(result)\n"
   ]
  },
  {
   "cell_type": "markdown",
   "metadata": {},
   "source": [
    "快速示例17"
   ]
  },
  {
   "cell_type": "code",
   "execution_count": 108,
   "metadata": {},
   "outputs": [
    {
     "name": "stdout",
     "output_type": "stream",
     "text": [
      "二级分类\n",
      "ASP.NET           87\n",
      "Android          261\n",
      "C#               314\n",
      "C++/C语言        724\n",
      "HTML             188\n",
      "JSP/JavaWeb      157\n",
      "Java             408\n",
      "JavaScript       100\n",
      "Oracle            58\n",
      "PHP              113\n",
      "Python          2449\n",
      "SQL              128\n",
      "Visual Basic      28\n",
      "WEB前端           57\n",
      "Name: 7天点击量, dtype: int64\n"
     ]
    }
   ],
   "source": [
    "print(df1.groupby('二级分类')['7天点击量'].sum())"
   ]
  },
  {
   "cell_type": "markdown",
   "metadata": {},
   "source": [
    "快速示例18"
   ]
  },
  {
   "cell_type": "code",
   "execution_count": 28,
   "metadata": {},
   "outputs": [
    {
     "name": "stdout",
     "output_type": "stream",
     "text": [
      "数据库\n",
      "   一级分类  7天点击量  订单预定\n",
      "25   数据库         58         2\n",
      "27   数据库        128        13\n",
      "移动开发\n",
      "    一级分类  7天点击量  订单预定\n",
      "10  移动开发         85         4\n",
      "19  移动开发         32         1\n",
      "24  移动开发         85         2\n",
      "28  移动开发         59         0\n",
      "编程语言与程序设计\n",
      "              一级分类  7天点击量  订单预定\n",
      "0   编程语言与程序设计         35         1\n",
      "1   编程语言与程序设计         49         0\n",
      "2   编程语言与程序设计         51         2\n",
      "3   编程语言与程序设计         64         1\n",
      "4   编程语言与程序设计         26         0\n",
      "5   编程语言与程序设计         60         1\n",
      "6   编程语言与程序设计        227        11\n",
      "8   编程语言与程序设计        122         3\n",
      "9   编程语言与程序设计        111         5\n",
      "11  编程语言与程序设计        165         5\n",
      "12  编程语言与程序设计        131         1\n",
      "13  编程语言与程序设计        149        10\n",
      "15  编程语言与程序设计       1139        79\n",
      "16  编程语言与程序设计        125         1\n",
      "18  编程语言与程序设计        149         4\n",
      "20  编程语言与程序设计         52         1\n",
      "21  编程语言与程序设计        597        25\n",
      "22  编程语言与程序设计        474        15\n",
      "23  编程语言与程序设计         83         3\n",
      "26  编程语言与程序设计        132         8\n",
      "29  编程语言与程序设计         27         2\n",
      "30  编程语言与程序设计        239        13\n",
      "31  编程语言与程序设计         45         1\n",
      "32  编程语言与程序设计         28         0\n",
      "网页制作/Web技术\n",
      "            一级分类  7天点击量  订单预定\n",
      "7   网页制作/Web技术        100         7\n",
      "14  网页制作/Web技术        188         8\n",
      "17  网页制作/Web技术         57         0\n"
     ]
    }
   ],
   "source": [
    "import matplotlib.pyplot as plt\n",
    "\n",
    "# 从 CSV 文件中读取数据\n",
    "df = pd.read_csv('JD.csv', encoding='gbk')\n",
    "\n",
    "# 选择感兴趣的列\n",
    "df1 = df[['一级分类', '7天点击量', '订单预定']]\n",
    "\n",
    "# 遍历每个分组，打印分组的名称和数据\n",
    "for name, group in df1.groupby('一级分类'):\n",
    "    print(f\"一级分类: {name}\")\n",
    "    print(group)\n"
   ]
  },
  {
   "cell_type": "markdown",
   "metadata": {},
   "source": [
    "快速示例19"
   ]
  },
  {
   "cell_type": "code",
   "execution_count": 31,
   "metadata": {},
   "outputs": [
    {
     "name": "stdout",
     "output_type": "stream",
     "text": [
      "数据库 Oracle\n",
      "   一级分类 二级分类  7天点击量  订单预定\n",
      "25   数据库   Oracle         58         2\n",
      "数据库 SQL\n",
      "   一级分类 二级分类  7天点击量  订单预定\n",
      "27   数据库      SQL        128        13\n",
      "移动开发 Android\n",
      "    一级分类 二级分类  7天点击量  订单预定\n",
      "10  移动开发  Android         85         4\n",
      "19  移动开发  Android         32         1\n",
      "24  移动开发  Android         85         2\n",
      "28  移动开发  Android         59         0\n",
      "编程语言与程序设计 ASP.NET\n",
      "              一级分类 二级分类  7天点击量  订单预定\n",
      "0   编程语言与程序设计  ASP.NET         35         1\n",
      "20  编程语言与程序设计  ASP.NET         52         1\n",
      "编程语言与程序设计 C#\n",
      "              一级分类 二级分类  7天点击量  订单预定\n",
      "5   编程语言与程序设计       C#         60         1\n",
      "8   编程语言与程序设计       C#        122         3\n",
      "26  编程语言与程序设计       C#        132         8\n",
      "编程语言与程序设计 C++/C语言\n",
      "              一级分类   二级分类  7天点击量  订单预定\n",
      "6   编程语言与程序设计  C++/C语言        227        11\n",
      "9   编程语言与程序设计  C++/C语言        111         5\n",
      "11  编程语言与程序设计  C++/C语言        165         5\n",
      "18  编程语言与程序设计  C++/C语言        149         4\n",
      "29  编程语言与程序设计  C++/C语言         27         2\n",
      "31  编程语言与程序设计  C++/C语言         45         1\n",
      "编程语言与程序设计 JSP/JavaWeb\n",
      "              一级分类     二级分类  7天点击量  订单预定\n",
      "4   编程语言与程序设计  JSP/JavaWeb         26         0\n",
      "12  编程语言与程序设计  JSP/JavaWeb        131         1\n",
      "编程语言与程序设计 Java\n",
      "              一级分类 二级分类  7天点击量  订单预定\n",
      "2   编程语言与程序设计     Java         51         2\n",
      "13  编程语言与程序设计     Java        149        10\n",
      "16  编程语言与程序设计     Java        125         1\n",
      "23  编程语言与程序设计     Java         83         3\n",
      "编程语言与程序设计 PHP\n",
      "             一级分类 二级分类  7天点击量  订单预定\n",
      "1  编程语言与程序设计      PHP         49         0\n",
      "3  编程语言与程序设计      PHP         64         1\n",
      "编程语言与程序设计 Python\n",
      "              一级分类 二级分类  7天点击量  订单预定\n",
      "15  编程语言与程序设计   Python       1139        79\n",
      "21  编程语言与程序设计   Python        597        25\n",
      "22  编程语言与程序设计   Python        474        15\n",
      "30  编程语言与程序设计   Python        239        13\n",
      "编程语言与程序设计 Visual Basic\n",
      "              一级分类      二级分类  7天点击量  订单预定\n",
      "32  编程语言与程序设计  Visual Basic         28         0\n",
      "网页制作/Web技术 HTML\n",
      "            一级分类 二级分类  7天点击量  订单预定\n",
      "14  网页制作/Web技术     HTML        188         8\n",
      "网页制作/Web技术 JavaScript\n",
      "           一级分类    二级分类  7天点击量  订单预定\n",
      "7  网页制作/Web技术  JavaScript        100         7\n",
      "网页制作/Web技术 WEB前端\n",
      "            一级分类 二级分类  7天点击量  订单预定\n",
      "17  网页制作/Web技术  WEB前端         57         0\n"
     ]
    }
   ],
   "source": [
    "df2 = df[['一级分类', '二级分类', '7天点击量', '订单预定']]\n",
    "\n",
    "# 遍历每个多级分组，打印分组的键和数据\n",
    "for (key1, key2), group in df2.groupby(['一级分类', '二级分类']):\n",
    "    print(f\"一级分类: {key1}, 二级分类: {key2}\")\n",
    "    print(group)\n"
   ]
  },
  {
   "cell_type": "markdown",
   "metadata": {},
   "source": [
    "快速示例20"
   ]
  },
  {
   "cell_type": "code",
   "execution_count": 32,
   "metadata": {},
   "outputs": [
    {
     "name": "stdout",
     "output_type": "stream",
     "text": [
      "                     7天点击量       订单预定     \n",
      "                          mean   sum     mean  sum\n",
      "一级分类                                          \n",
      "数据库               93.000000   186     7.50   15\n",
      "移动开发             65.250000   261     1.75    7\n",
      "编程语言与程序设计  178.333333  4280     8.00  192\n",
      "网页制作/Web技术    115.000000   345     5.00   15\n"
     ]
    }
   ],
   "source": [
    "print(df1.groupby('一级分类').agg(['mean','sum']))"
   ]
  },
  {
   "cell_type": "markdown",
   "metadata": {},
   "source": [
    "快速示例21"
   ]
  },
  {
   "cell_type": "code",
   "execution_count": 33,
   "metadata": {},
   "outputs": [
    {
     "name": "stdout",
     "output_type": "stream",
     "text": [
      "                     7天点击量       订单预定\n",
      "                          mean   sum      sum\n",
      "一级分类                                     \n",
      "数据库               93.000000   186       15\n",
      "移动开发             65.250000   261        7\n",
      "编程语言与程序设计  178.333333  4280      192\n",
      "网页制作/Web技术    115.000000   345       15\n"
     ]
    }
   ],
   "source": [
    "print(df1.groupby('一级分类').agg({'7天点击量':['mean','sum'],'订单预定':['sum']}))"
   ]
  },
  {
   "cell_type": "markdown",
   "metadata": {},
   "source": [
    "快速示例22"
   ]
  },
  {
   "cell_type": "code",
   "execution_count": 35,
   "metadata": {},
   "outputs": [
    {
     "name": "stdout",
     "output_type": "stream",
     "text": [
      "            宝贝标题   数量  买家实际支付金额\n",
      "max   零基础学Python    NaN               NaN\n",
      "sum              NaN  53.00         2528.5600\n",
      "mean             NaN   1.06           50.5712\n"
     ]
    },
    {
     "name": "stderr",
     "output_type": "stream",
     "text": [
      "C:\\Users\\dangh\\AppData\\Local\\Temp\\ipykernel_33396\\139829915.py:3: FutureWarning: The provided callable <built-in function max> is currently using Series.max. In a future version of pandas, the provided callable will be used directly. To keep current behavior pass 'max' instead.\n",
      "  df1 = df.agg({'宝贝标题':[max],\n"
     ]
    }
   ],
   "source": [
    "import pandas as pd\n",
    "\n",
    "# 从 Excel 文件中读取数据\n",
    "df = pd.read_excel('1月.xlsx')\n",
    "\n",
    "# 定义一个 lambda 函数，用于获取 Series 中出现频率最高的元素\n",
    "max1 = lambda x: x.value_counts(dropna=False).index[0]\n",
    "\n",
    "# 使用 agg 函数对 DataFrame 进行多个聚合操作\n",
    "df1 = df.agg({\n",
    "    '宝贝标题': [max1],  # 获取宝贝标题列中出现频率最高的元素\n",
    "    '数量': ['sum', 'mean'],  # 计算数量列的总和和平均值\n",
    "    '买家实际支付金额': ['sum', 'mean']  # 计算买家实际支付金额列的总和和平均值\n",
    "})\n",
    "\n",
    "# 打印聚合结果\n",
    "print(df1)\n"
   ]
  },
  {
   "cell_type": "markdown",
   "metadata": {},
   "source": [
    "快速示例23"
   ]
  },
  {
   "cell_type": "code",
   "execution_count": 38,
   "metadata": {},
   "outputs": [
    {
     "name": "stdout",
     "output_type": "stream",
     "text": [
      "                                               一级分类      二级分类  7天点击量   定价  订单预定\n",
      "商品名称                                                                                         \n",
      "ASP.NET项目开发实战入门（全彩版）    编程语言与程序设计       ASP.NET         35   69.8         1\n",
      "PHP项目开发实战入门（全彩版）        编程语言与程序设计           PHP         49   69.8         0\n",
      "Java精彩编程200例（全彩版）          编程语言与程序设计          Java         51   79.8         2\n",
      "零基础学PHP（全彩版）                编程语言与程序设计           PHP         64   79.8         1\n",
      "JSP项目开发实战入门（全彩版）        编程语言与程序设计   JSP/JavaWeb         26   69.8         0\n",
      "C#精彩编程200例（全彩版）            编程语言与程序设计            C#         60   89.8         1\n",
      "零基础学C语言（全彩版）              编程语言与程序设计     C++/C语言        227   69.8        11\n",
      "零基础学JavaScript（全彩版）           网页制作/Web技术    JavaScript        100   79.8         7\n",
      "C#项目开发实战入门（全彩版）         编程语言与程序设计            C#        122   69.8         3\n",
      "C语言项目开发实战入门（全彩版）      编程语言与程序设计     C++/C语言        111   59.8         5\n",
      "零基础学Android（全彩版）                      移动开发       Android         85   89.8         4\n",
      "零基础学C++（全彩版）                编程语言与程序设计     C++/C语言        165   79.8         5\n",
      "JavaWeb项目开发实战入门（全彩版）    编程语言与程序设计   JSP/JavaWeb        131   69.8         1\n",
      "零基础学Java（全彩版）               编程语言与程序设计          Java        149   69.8        10\n",
      "零基础学HTML5+CSS3（全彩版）           网页制作/Web技术          HTML        188   79.8         8\n",
      "零基础学Python（全彩版）             编程语言与程序设计        Python       1139   79.8        79\n",
      "Java开发详解（全彩版）               编程语言与程序设计          Java        125  119.0         1\n",
      "案例学WEB前端开发（全彩版）            网页制作/Web技术       WEB前端         57   49.8         0\n",
      "C++项目开发实战入门（全彩版）        编程语言与程序设计     C++/C语言        149   69.8         4\n",
      "Android精彩编程200例（全彩版）                 移动开发       Android         32   89.8         1\n",
      "零基础学ASP.NET（全彩版）            编程语言与程序设计       ASP.NET         52   79.8         1\n",
      "Python从入门到项目实践（全彩版）     编程语言与程序设计        Python        597   99.8        25\n",
      "Python项目开发案例集锦（全彩版）     编程语言与程序设计        Python        474  128.0        15\n",
      "Java项目开发实战入门（全彩版）       编程语言与程序设计          Java         83   59.8         3\n",
      "Android项目开发实战入门（全彩版）              移动开发       Android         85   59.8         2\n",
      "零基础学Oracle（全彩版）                         数据库        Oracle         58   79.8         2\n",
      "零基础学C#（全彩版）                 编程语言与程序设计            C#        132   79.8         8\n",
      "SQL即查即用（全彩版）                            数据库           SQL        128   49.8        13\n",
      "Android开发详解（全彩版）                      移动开发       Android         59  119.0         0\n",
      "玩转C语言程序设计（全彩版）          编程语言与程序设计     C++/C语言         27   49.8         2\n",
      "Python编程锦囊（全彩版）             编程语言与程序设计        Python        239   79.8        13\n",
      "C语言精彩编程200例（全彩版）         编程语言与程序设计     C++/C语言         45   79.8         1\n",
      "Visual Basic精彩编程200例（全彩版）  编程语言与程序设计  Visual Basic         28   79.8         0\n"
     ]
    },
    {
     "name": "stderr",
     "output_type": "stream",
     "text": [
      "C:\\Users\\dangh\\AppData\\Local\\Temp\\ipykernel_33396\\3436158345.py:7: FutureWarning: DataFrame.groupby with axis=1 is deprecated. Do `frame.T.groupby(...)` without axis instead.\n",
      "  df1 = df.groupby(dict1,axis=1).sum()\n"
     ]
    }
   ],
   "source": [
    "import pandas as pd\n",
    "\n",
    "# 从 CSV 文件中读取数据\n",
    "df = pd.read_csv('JD.csv', encoding='gbk')\n",
    "\n",
    "# 将 '商品名称' 列设置为索引\n",
    "df = df.set_index(['商品名称'])\n",
    "\n",
    "# 定义一个字典，用于指定列的分组关系\n",
    "dict1 = {'上海出库销量': '北上广', '北京出库销量': '北上广',\n",
    "         '广州出库销量': '北上广', '成都出库销量': '成都',\n",
    "         '武汉出库销量': '武汉', '西安出库销量': '西安'}\n",
    "\n",
    "# 使用 groupby 方法按列分组，并对每组进行求和\n",
    "df1 = df.groupby(dict1, axis=1).sum()\n",
    "\n",
    "# 打印分组求和的结果\n",
    "print(df1)\n"
   ]
  },
  {
   "cell_type": "markdown",
   "metadata": {},
   "source": [
    "快速示例24"
   ]
  },
  {
   "cell_type": "code",
   "execution_count": 40,
   "metadata": {},
   "outputs": [
    {
     "name": "stdout",
     "output_type": "stream",
     "text": [
      "上海出库销量    北上广\n",
      "北京出库销量    北上广\n",
      "广州出库销量    北上广\n",
      "成都出库销量      成都\n",
      "武汉出库销量      武汉\n",
      "西安出库销量      西安\n",
      "dtype: object\n"
     ]
    }
   ],
   "source": [
    "import pandas as pd\n",
    "\n",
    "# 定义一个字典，表示城市和对应的出库销量列\n",
    "data = {'上海出库销量': '北上广', '北京出库销量': '北上广',\n",
    "        '广州出库销量': '北上广', '成都出库销量': '成都',\n",
    "        '武汉出库销量': '武汉', '西安出库销量': '西安'}\n",
    "\n",
    "# 使用字典创建 Pandas Series 对象\n",
    "s1 = pd.Series(data)\n",
    "\n",
    "# 打印 Series 对象\n",
    "print(s1)\n"
   ]
  },
  {
   "cell_type": "markdown",
   "metadata": {},
   "source": [
    "快速示例25"
   ]
  },
  {
   "cell_type": "code",
   "execution_count": 39,
   "metadata": {},
   "outputs": [
    {
     "name": "stdout",
     "output_type": "stream",
     "text": [
      "   英语   升降\n",
      "1   110    NaN\n",
      "2   105   -5.0\n",
      "3    99   -6.0\n",
      "4   120   21.0\n",
      "5    15 -105.0\n"
     ]
    }
   ],
   "source": [
    "import pandas as pd\n",
    "\n",
    "# 定义数据和索引\n",
    "data = [110, 105, 99, 120, 15]\n",
    "index = [1, 2, 3, 4, 5]\n",
    "\n",
    "# 创建 DataFrame 对象\n",
    "df = pd.DataFrame(data, index=index, columns=['英语'])\n",
    "\n",
    "# 计算 '升降' 列，表示当前 '英语' 列与前一行的 '英语' 列之差\n",
    "df['升降'] = df['英语'] - df['英语'].shift()\n",
    "\n",
    "# 打印 DataFrame 对象\n",
    "print(df)\n"
   ]
  },
  {
   "cell_type": "markdown",
   "metadata": {},
   "source": [
    "快速示例26"
   ]
  },
  {
   "cell_type": "code",
   "execution_count": 45,
   "metadata": {},
   "outputs": [
    {
     "name": "stdout",
     "output_type": "stream",
     "text": [
      "  买家会员名                                                             收货地址      省      市\n",
      "0    mr00001                                重庆 重庆市 南岸区                     重庆市  南岸区\n",
      "1    mr00003      江苏省 苏州市 吴江区 吴江经济技术开发区亨通路                    苏州市  吴江区\n",
      "2    mr00004  江苏省 苏州市 园区 苏州市工业园区唯亭镇阳澄湖大道维纳阳光花园......  苏州市    园区\n",
      "3    mr00002   重庆 重庆市 南岸区 长生桥镇茶园新区长电路11112号                    重庆市  南岸区\n",
      "4    mr00005           安徽省 滁州市 明光市 三界镇中心街10001号                    滁州市  明光市\n"
     ]
    }
   ],
   "source": [
    "import pandas as pd\n",
    "\n",
    "# 设置 Pandas 显示选项，确保中文宽度正常显示\n",
    "pd.set_option('display.max_columns', 500)\n",
    "pd.set_option('display.width', 1000)\n",
    "pd.set_option('display.unicode.east_asian_width', True)\n",
    "\n",
    "# 从 Excel 文件中读取数据，仅使用 '买家会员名' 和 '收货地址' 列\n",
    "df = pd.read_excel('mrbooks.xlsx', usecols=['买家会员名', '收货地址'])\n",
    "\n",
    "# 使用 str.split 对 '收货地址' 列进行拆分，expand=True 表示将拆分的结果扩展为新的列\n",
    "series = df['收货地址'].str.split(' ', expand=True)\n",
    "\n",
    "# 将拆分得到的省份和市的信息添加到原 DataFrame 中\n",
    "df['省'] = series[0]\n",
    "df['市'] = series[1]\n",
    "\n",
    "# 打印 DataFrame 的前几行\n",
    "print(df.head())\n"
   ]
  },
  {
   "cell_type": "markdown",
   "metadata": {},
   "source": [
    "快速示例27"
   ]
  },
  {
   "cell_type": "code",
   "execution_count": 91,
   "metadata": {},
   "outputs": [
    {
     "name": "stdout",
     "output_type": "stream",
     "text": [
      "   其他列 拆分标题0 拆分标题1 拆分标题2\n",
      "0       1         A         B         C\n",
      "1       2         D         E         F\n"
     ]
    }
   ],
   "source": [
    "#这段代码原书上的运行有问题\n",
    "#原书代码如下\n",
    "#df = df.join(df['宝贝标题'].str.split('，', expand=True))\n",
    "\n",
    "import pandas as pd\n",
    "\n",
    "df = pd.DataFrame({\n",
    "    '宝贝标题': ['A，B，C', 'D，E，F'],\n",
    "    '其他列': [1, 2]\n",
    "})\n",
    "\n",
    "# 使用join方法连接\n",
    "df = df.join(df['宝贝标题'].str.split('，', expand=True).add_prefix('拆分标题'))\n",
    "\n",
    "# 删除原始的宝贝标题列\n",
    "df = df.drop('宝贝标题', axis=1)\n",
    "\n",
    "print(df)\n"
   ]
  },
  {
   "cell_type": "markdown",
   "metadata": {},
   "source": [
    "快速示例28"
   ]
  },
  {
   "cell_type": "code",
   "execution_count": 51,
   "metadata": {},
   "outputs": [
    {
     "name": "stdout",
     "output_type": "stream",
     "text": [
      "   a        b\n",
      "0  1   (1, 2)\n",
      "1  2   (3, 4)\n",
      "2  3   (5, 6)\n",
      "3  4   (7, 8)\n",
      "4  5  (9, 10)\n"
     ]
    }
   ],
   "source": [
    "import pandas as pd\n",
    "\n",
    "# 设置 Pandas 显示选项，确保中文宽度正常显示\n",
    "pd.set_option('display.unicode.east_asian_width', True)\n",
    "\n",
    "# 创建 DataFrame 对象\n",
    "df = pd.DataFrame({'a': [1, 2, 3, 4, 5], 'b': [(1, 2), (3, 4), (5, 6), (7, 8), (9, 10)]})\n",
    "\n",
    "# 打印 DataFrame\n",
    "print(df)\n"
   ]
  },
  {
   "cell_type": "markdown",
   "metadata": {},
   "source": [
    "快速示例29"
   ]
  },
  {
   "cell_type": "code",
   "execution_count": 53,
   "metadata": {},
   "outputs": [
    {
     "name": "stdout",
     "output_type": "stream",
     "text": [
      "班级  序号    \n",
      "1班   1     姓名    王*亮\n",
      "            得分       84\n",
      "            排名       11\n",
      "      2     姓名     杨**\n",
      "            得分       82\n",
      "            排名       17\n",
      "      3     姓名    王*彬\n",
      "            得分       78\n",
      "            排名       37\n",
      "2班   4     姓名    赛*琪\n",
      "            得分       77\n",
      "            排名       51\n",
      "      5     姓名     刘**\n",
      "            得分       76\n",
      "            排名       64\n",
      "      6     姓名    刘*彤\n",
      "            得分       74\n",
      "            排名       89\n",
      "3班   7     姓名    张*扬\n",
      "            得分       72\n",
      "            排名      115\n",
      "      8     姓名     尹**\n",
      "            得分       72\n",
      "            排名      115\n",
      "      9     姓名    李*旸\n",
      "            得分       72\n",
      "            排名      115\n",
      "4班   10    姓名    *华煦\n",
      "            得分       72\n",
      "            排名      115\n",
      "      11    姓名    于*明\n",
      "            得分       72\n",
      "            排名      115\n",
      "      12    姓名    袁*皓\n",
      "            得分       70\n",
      "            排名      151\n",
      "5班   13    姓名      姜*\n",
      "            得分       70\n",
      "            排名      151\n",
      "      14    姓名     窦**\n",
      "            得分       68\n",
      "            排名      195\n",
      "      15    姓名    张*昕\n",
      "            得分       68\n",
      "            排名      195\n",
      "dtype: object\n"
     ]
    }
   ],
   "source": [
    "import pandas as pd\n",
    "\n",
    "# 设置 Pandas 显示选项，确保中文宽度正常显示\n",
    "pd.set_option('display.max_columns', 500)\n",
    "pd.set_option('display.width', 1000)\n",
    "pd.set_option('display.unicode.east_asian_width', True)\n",
    "\n",
    "# 从 Excel 文件中读取数据，并将 '班级' 和 '序号' 列设置为 MultiIndex\n",
    "df = pd.read_excel('grade.xlsx')\n",
    "df = df.set_index(['班级', '序号'])\n",
    "\n",
    "# 使用 stack 方法将 DataFrame 进行重塑，将列索引转换为行索引\n",
    "df = df.stack()\n",
    "\n",
    "# 打印重塑后的 DataFrame\n",
    "print(df)\n"
   ]
  },
  {
   "cell_type": "markdown",
   "metadata": {},
   "source": [
    "快速示例30"
   ]
  },
  {
   "cell_type": "code",
   "execution_count": 55,
   "metadata": {},
   "outputs": [
    {
     "name": "stdout",
     "output_type": "stream",
     "text": [
      "班级  序号  Unnamed: 2            \n",
      "1班   1     姓名        Unnamed: 3    王*亮\n",
      "            得分        Unnamed: 3       84\n",
      "            排名        Unnamed: 3       11\n",
      "      2     姓名        Unnamed: 3     杨**\n",
      "            得分        Unnamed: 3       82\n",
      "            排名        Unnamed: 3       17\n",
      "      3     姓名        Unnamed: 3    王*彬\n",
      "            得分        Unnamed: 3       78\n",
      "            排名        Unnamed: 3       37\n",
      "2班   4     姓名        Unnamed: 3    赛*琪\n",
      "            得分        Unnamed: 3       77\n",
      "            排名        Unnamed: 3       51\n",
      "      5     姓名        Unnamed: 3     刘**\n",
      "            得分        Unnamed: 3       76\n",
      "            排名        Unnamed: 3       64\n",
      "      6     姓名        Unnamed: 3    刘*彤\n",
      "            得分        Unnamed: 3       74\n",
      "            排名        Unnamed: 3       89\n",
      "dtype: object\n"
     ]
    }
   ],
   "source": [
    "import pandas as pd\n",
    "\n",
    "# 从 Excel 文件中读取数据，并将 '班级'、'序号' 和 'Unnamed: 2' 列设置为 MultiIndex\n",
    "df = pd.read_excel('grade.xlsx', sheet_name='英语2')\n",
    "df = df.set_index(['班级', '序号', 'Unnamed: 2'])\n",
    "\n",
    "# 使用 stack 方法将 DataFrame 进行重塑，将列索引转换为行索引\n",
    "result = df.stack()\n",
    "\n",
    "# 打印重塑后的 DataFrame\n",
    "print(result)\n"
   ]
  },
  {
   "cell_type": "markdown",
   "metadata": {},
   "source": [
    "快速示例31"
   ]
  },
  {
   "cell_type": "code",
   "execution_count": 56,
   "metadata": {},
   "outputs": [
    {
     "name": "stdout",
     "output_type": "stream",
     "text": [
      "班级  1班  2班  3班  4班  5班\n",
      "序号                         \n",
      "1      84   77   72   72   70\n",
      "2      82   76   72   72   68\n",
      "3      78   74   72   70   68\n"
     ]
    }
   ],
   "source": [
    "import pandas as pd\n",
    "\n",
    "# 从 Excel 文件中读取数据\n",
    "df = pd.read_excel('grade.xlsx', sheet_name='英语3')\n",
    "\n",
    "# 使用 pivot 方法进行透视，将 '序号' 列作为新 DataFrame 的索引，'班级' 列作为新 DataFrame 的列，'得分' 列作为新 DataFrame 的值\n",
    "result = df.pivot(index='序号', columns='班级', values='得分')\n",
    "\n",
    "# 打印透视后的 DataFrame\n",
    "print(result)\n"
   ]
  },
  {
   "cell_type": "markdown",
   "metadata": {},
   "source": [
    "快速示例32"
   ]
  },
  {
   "cell_type": "code",
   "execution_count": 57,
   "metadata": {},
   "outputs": [
    {
     "name": "stdout",
     "output_type": "stream",
     "text": [
      "ASP.NET项目开发实战入门全彩版 :\t 32\n",
      "ASP.NET项目开发实战入门全彩版，ASP.NET全能速查宝典 :\t 2\n",
      "Android学习黄金组合套装 :\t 4\n",
      "Android项目开发实战入门 :\t 1\n",
      "C#+ASP.NET项目开发实战入门全彩版 :\t 1\n"
     ]
    }
   ],
   "source": [
    "import pandas as pd\n",
    "\n",
    "# 从 Excel 文件中读取数据\n",
    "df = pd.read_excel('mrbooks.xlsx')\n",
    "\n",
    "# 按 '宝贝标题' 分组，计算每个分组中 '宝贝总数量' 的总和，并取前五个结果\n",
    "df1 = df.groupby([\"宝贝标题\"])[\"宝贝总数量\"].sum().head()\n",
    "\n",
    "# 将结果转换为字典\n",
    "mydict = df1.to_dict()\n",
    "\n",
    "# 使用 for 循环打印字典中的键值对\n",
    "for i, j in mydict.items():\n",
    "    print(i, ':\\t', j)\n"
   ]
  },
  {
   "cell_type": "markdown",
   "metadata": {},
   "source": [
    "快速示例33"
   ]
  },
  {
   "cell_type": "code",
   "execution_count": 80,
   "metadata": {},
   "outputs": [
    {
     "name": "stdout",
     "output_type": "stream",
     "text": [
      "mr00001\n",
      "mr00003\n",
      "mr00004\n",
      "mr00002\n",
      "mr00005\n"
     ]
    }
   ],
   "source": [
    "import pandas as pd\n",
    "\n",
    "# 从 Excel 文件中读取数据\n",
    "df = pd.read_excel('mrbooks.xlsx')\n",
    "\n",
    "# 选择 '买家会员名' 列的前五个数据\n",
    "df1 = df[['买家会员名']].head()\n",
    "\n",
    "# 将 '买家会员名' 列的前五个数据转换为列表\n",
    "list1 = df1['买家会员名'].values.tolist()\n",
    "\n",
    "# 使用 for 循环打印列表中的每个元素\n",
    "for s in list1:\n",
    "    print(s)\n"
   ]
  },
  {
   "cell_type": "markdown",
   "metadata": {},
   "source": [
    "快速示例34"
   ]
  },
  {
   "cell_type": "code",
   "execution_count": 84,
   "metadata": {},
   "outputs": [
    {
     "name": "stdout",
     "output_type": "stream",
     "text": [
      "('超巨星', '暗夜比夜星')\n",
      "('黑矮星', '暗夜比夜星')\n",
      "('灭霸', '暗夜比夜星')\n",
      "('亡刃将军', '暗夜比夜星')\n",
      "('乌木喉', '暗夜比夜星')\n"
     ]
    }
   ],
   "source": [
    "import pandas as pd\n",
    "\n",
    "# 从 Excel 文件中读取数据\n",
    "df = pd.read_excel('fl4.xlsx')\n",
    "\n",
    "# 选择 'label1' 和 'label2' 列的前五个数据\n",
    "df1 = df[['label1', 'label2']].head()\n",
    "\n",
    "# 将 'label1' 和 'label2' 列的前五个数据转换为元组\n",
    "tuples = [tuple(x) for x in df1.values]\n",
    "\n",
    "# 使用 for 循环打印元组中的每个元素\n",
    "for t in tuples:\n",
    "    print(t)\n"
   ]
  },
  {
   "cell_type": "markdown",
   "metadata": {},
   "source": [
    "快速示例35"
   ]
  },
  {
   "cell_type": "code",
   "execution_count": null,
   "metadata": {},
   "outputs": [],
   "source": [
    "import pandas as pd\n",
    "\n",
    "# 从 Excel 文件中读取数据\n",
    "df = pd.read_excel('mrbooks.xlsx')\n",
    "\n",
    "# 将数据保存为 HTML 文件\n",
    "df.to_html('mrbook.html', header=True, index=False)\n"
   ]
  },
  {
   "cell_type": "markdown",
   "metadata": {},
   "source": [
    "快速示例36"
   ]
  },
  {
   "cell_type": "code",
   "execution_count": 86,
   "metadata": {},
   "outputs": [
    {
     "name": "stdout",
     "output_type": "stream",
     "text": [
      "    编号  语文  数学  英语  体育\n",
      "0  mr001   110   105    99  34.5\n",
      "1  mr002   105    88   115  39.7\n",
      "2  mr003   109   120   130  38.0\n"
     ]
    }
   ],
   "source": [
    "import pandas as pd\n",
    "\n",
    "# 设置 Pandas 显示选项，确保中文宽度正常显示\n",
    "pd.set_option('display.unicode.east_asian_width', True)\n",
    "\n",
    "# 创建第一个 DataFrame\n",
    "df1 = pd.DataFrame({'编号': ['mr001', 'mr002', 'mr003'],\n",
    "                    '语文': [110, 105, 109],\n",
    "                    '数学': [105, 88, 120],\n",
    "                    '英语': [99, 115, 130]})\n",
    "\n",
    "# 创建第二个 DataFrame\n",
    "df2 = pd.DataFrame({'编号': ['mr001', 'mr002', 'mr003'],\n",
    "                    '体育': [34.5, 39.7, 38]})\n",
    "\n",
    "# 使用 pd.merge 方法按照 '编号' 列合并两个 DataFrame\n",
    "df_merge = pd.merge(df1, df2, on='编号')\n",
    "\n",
    "# 打印合并后的 DataFrame\n",
    "print(df_merge)\n"
   ]
  },
  {
   "cell_type": "markdown",
   "metadata": {},
   "source": [
    "快速示例37"
   ]
  },
  {
   "cell_type": "code",
   "execution_count": 109,
   "metadata": {},
   "outputs": [
    {
     "name": "stdout",
     "output_type": "stream",
     "text": [
      "             一级分类 二级分类  7天点击量  订单预定   编号  语文  数学  英语\n",
      "0  编程语言与程序设计  ASP.NET         35         1  mr001   110   105    99\n",
      "1  编程语言与程序设计      PHP         49         0  mr002   105    88   115\n",
      "2  编程语言与程序设计     Java         51         2  mr003   109   120   130\n"
     ]
    }
   ],
   "source": [
    "import pandas as pd\n",
    "\n",
    "# 创建第一个 DataFrame\n",
    "df1 = pd.DataFrame({'编号': ['mr001', 'mr002', 'mr003'],\n",
    "                    '语文': [110, 105, 109],\n",
    "                    '数学': [105, 88, 120],\n",
    "                    '英语': [99, 115, 130]})\n",
    "\n",
    "# 创建第二个 DataFrame\n",
    "df2 = pd.DataFrame({'编号': ['mr001', 'mr002', 'mr003'],\n",
    "                    '体育': [34.5, 39.7, 38]})\n",
    "\n",
    "# 使用 pd.merge 方法按照索引合并两个 DataFrame\n",
    "df_merge = pd.merge(df1, df2, right_index=True, left_index=True)\n",
    "\n",
    "# 打印合并后的 DataFrame\n",
    "print(df_merge)\n"
   ]
  },
  {
   "cell_type": "markdown",
   "metadata": {},
   "source": [
    "快速示例38"
   ]
  },
  {
   "cell_type": "code",
   "execution_count": 111,
   "metadata": {},
   "outputs": [],
   "source": [
    "#dataFrame合并\n",
    "df_merge = pd.merge(df1,df2,right_index=True,left_index=True)\n",
    "df_merge = pd.merge(df1,df2,how='left')\n"
   ]
  },
  {
   "cell_type": "markdown",
   "metadata": {},
   "source": [
    "快速示例39"
   ]
  },
  {
   "cell_type": "code",
   "execution_count": 90,
   "metadata": {},
   "outputs": [
    {
     "name": "stdout",
     "output_type": "stream",
     "text": [
      "    编号  学生姓名  语文  数学  英语\n",
      "0  mr001  明日同学   110   105    99\n",
      "1  mr002    高猿员   105    88   115\n",
      "2  mr003    钱多多   109   120   130\n"
     ]
    }
   ],
   "source": [
    "import pandas as pd\n",
    "\n",
    "# 设置 Pandas 显示选项，确保中文宽度正常显示\n",
    "pd.set_option('display.unicode.east_asian_width', True)\n",
    "\n",
    "# 创建第一个 DataFrame\n",
    "df1 = pd.DataFrame({'编号': ['mr001', 'mr002', 'mr003'],\n",
    "                    '学生姓名': ['明日同学', '高猿员', '钱多多']})\n",
    "\n",
    "# 创建第二个 DataFrame\n",
    "df2 = pd.DataFrame({'编号': ['mr001', 'mr002', 'mr003'],\n",
    "                    '语文': [110, 105, 109],\n",
    "                    '数学': [105, 88, 120],\n",
    "                    '英语': [99, 115, 130]})\n",
    "\n",
    "# 使用 pd.merge 方法按照 '编号' 列合并两个 DataFrame\n",
    "df_merge = pd.merge(df1, df2, on='编号')\n",
    "\n",
    "# 打印合并后的 DataFrame\n",
    "print(df_merge)\n"
   ]
  },
  {
   "cell_type": "markdown",
   "metadata": {},
   "source": [
    "快速示例40"
   ]
  },
  {
   "cell_type": "code",
   "execution_count": 101,
   "metadata": {},
   "outputs": [
    {
     "name": "stdout",
     "output_type": "stream",
     "text": [
      "    编号  语文  数学  英语\n",
      "0  mr001   110   105    99\n",
      "1  mr002   105    88   115\n",
      "2  mr003   109   120   130\n"
     ]
    }
   ],
   "source": [
    "import pandas as pd\n",
    "\n",
    "# 设置 Pandas 显示选项，确保中文宽度正常显示\n",
    "pd.set_option('display.unicode.east_asian_width', True)\n",
    "\n",
    "# 创建第一个 DataFrame\n",
    "df1 = pd.DataFrame({'编号': ['mr001', 'mr002', 'mr003', 'mr001', 'mr001'],\n",
    "                    '体育': [34.5, 39.7, 38, 33, 35]})\n",
    "\n",
    "# 创建第二个 DataFrame\n",
    "df2 = pd.DataFrame({'编号': ['mr001', 'mr002', 'mr003', 'mr003', 'mr003'],\n",
    "                    '语文': [110, 105, 109, 110, 108],\n",
    "                    '数学': [105, 88, 120, 123, 119],\n",
    "                    '英语': [99, 115, 130, 109, 128]})\n",
    "\n",
    "# 使用 pd.merge 方法合并两个 DataFrame\n",
    "df_merge = pd.merge(df1, df2, on='编号')\n",
    "\n",
    "# 打印合并后的 DataFrame\n",
    "print(df_merge)\n"
   ]
  },
  {
   "cell_type": "markdown",
   "metadata": {},
   "source": [
    "快速示例41"
   ]
  },
  {
   "cell_type": "code",
   "execution_count": 93,
   "metadata": {},
   "outputs": [],
   "source": [
    "# 将合并后的 DataFrame 保存为 Excel 文件\n",
    "df_merge.to_excel('merge.xlsx', index=False)\n",
    "\n",
    "# 将原始 DataFrame df1 保存为 Excel 文件，指定 sheet_name 为 'df1'\n",
    "df1.to_excel('df11.xlsx', sheet_name='df1', index=False)\n"
   ]
  },
  {
   "cell_type": "markdown",
   "metadata": {},
   "source": [
    "\n",
    "快速示例42"
   ]
  },
  {
   "cell_type": "code",
   "execution_count": 95,
   "metadata": {},
   "outputs": [],
   "source": [
    "# 将 DataFrame 保存为 CSV 文件，默认分隔符为逗号，包括行索引\n",
    "df.to_csv('Result.csv')\n",
    "\n",
    "# 将 DataFrame 保存为 CSV 文件，指定分隔符为问号\n",
    "df.to_csv('Result.csv', sep='?')\n",
    "\n",
    "# 将 DataFrame 保存为 CSV 文件，将缺失值表示为 'NA'\n",
    "df.to_csv('Result.csv', na_rep='NA')\n",
    "\n",
    "# 将 DataFrame 保存为 CSV 文件，不包含行索引\n",
    "df.to_csv('Result.csv', index=False)\n",
    "\n",
    "# 将 DataFrame 保存为 CSV 文件，不包含列名\n",
    "df.to_csv('Result.csv', header=False)\n",
    "\n",
    "# 将 DataFrame 保存为 CSV 文件，设置浮点数格式为两位小数\n",
    "df.to_csv('Result.csv', float_format='%.2f')\n"
   ]
  },
  {
   "cell_type": "markdown",
   "metadata": {},
   "source": [
    "快速示例43"
   ]
  },
  {
   "cell_type": "code",
   "execution_count": null,
   "metadata": {},
   "outputs": [],
   "source": [
    "import pandas as pd\n",
    "\n",
    "# 将 df1 保存为 Excel 文件，指定 sheet_name 为 'df1'\n",
    "df1.to_excel('df1.xlsx', sheet_name='df1')\n",
    "\n",
    "# 创建一个 ExcelWriter 对象\n",
    "work = pd.ExcelWriter('df2.xlsx')\n",
    "\n",
    "# 将 df1 保存到 ExcelWriter 对象中的 sheet_name 为 'df2'\n",
    "df1.to_excel(work, sheet_name='df2')\n",
    "\n",
    "# 将 df1['A'] 保存到 ExcelWriter 对象中的 sheet_name 为 'df3'\n",
    "df1['A'].to_excel(work, sheet_name='df3')\n",
    "\n",
    "# 保存 Excel 文件\n",
    "work.save()"
   ]
  },
  {
   "cell_type": "markdown",
   "metadata": {},
   "source": [
    "快速示例44"
   ]
  },
  {
   "cell_type": "code",
   "execution_count": null,
   "metadata": {},
   "outputs": [],
   "source": [
    "import pandas as pd \n",
    "pd.set_option('display.unicode.east_asian_width', True)\n",
    "df=pd.DataFrame({'原日期':['14-Feb-20','02/14/2020','2020.02.14','2020/02/14','20200214']})\n",
    "df['转换后日期']=pd.to_datetime(df['原日期'])\n",
    "print(df)"
   ]
  },
  {
   "cell_type": "markdown",
   "metadata": {},
   "source": [
    "快速示例45"
   ]
  },
  {
   "cell_type": "code",
   "execution_count": null,
   "metadata": {},
   "outputs": [],
   "source": [
    "df = pd.DataFrame({'year':[2018,2019,2020],\n",
    "                   'month':[1,2,3],\n",
    "                   'day':[4,5,14],\n",
    "                   'minute':[23,12,14],\n",
    "                   'second':[2,4,0]})\n",
    "df['组合后的日期']=pd.to_datetime(df)\n",
    "print(df)"
   ]
  },
  {
   "cell_type": "markdown",
   "metadata": {},
   "source": [
    "快速示例46"
   ]
  },
  {
   "cell_type": "markdown",
   "metadata": {},
   "source": [
    "df['年'],df['月'],df['日'],df['日期'],dt.year,df['日期'],dt.month,df['日期'],dt.day\n",
    "df['星期几']=df['日期'].dt.day_name()\n",
    "df['季度']=df['日期'].dt.quarter\n",
    "df['是否年底']=df['日期'].dt.is_year_end\n",
    "df1['2018']\n",
    "df1['2017':'2018']\n",
    "df1['2018-07']\n",
    "df1['2018-05-06':'2018-05-06']"
   ]
  },
  {
   "cell_type": "markdown",
   "metadata": {},
   "source": [
    "快速示例47"
   ]
  },
  {
   "cell_type": "code",
   "execution_count": null,
   "metadata": {},
   "outputs": [],
   "source": [
    "import pandas as pd\n",
    "pd.set_option('display.unicode.ambiguous_as_wide', True)\n",
    "pd.set_option('display.unicode.east_asian_width', True)\n",
    "df = pd.read_excel('mingribooks.xlsx')\n",
    "df1=df[['订单付款时间','买家会员名','联系手机','买家实际支付金额']]\n",
    "df1=df1.sort_values(by=['订单付款时间'])\n",
    "df1 = df1.set_index('订单付款时间')\n",
    "print(df1['2018-05-11':'2018-06-10'])"
   ]
  },
  {
   "cell_type": "markdown",
   "metadata": {},
   "source": [
    "快速示例48"
   ]
  },
  {
   "cell_type": "code",
   "execution_count": null,
   "metadata": {},
   "outputs": [],
   "source": [
    "df1.to_period('A')\n",
    "df1.to_period('O')\n",
    "df1.to_period('M')\n",
    "df1.to_period('W')\n"
   ]
  },
  {
   "cell_type": "markdown",
   "metadata": {},
   "source": [
    "快速示例49"
   ]
  },
  {
   "cell_type": "code",
   "execution_count": null,
   "metadata": {},
   "outputs": [],
   "source": [
    "import pandas as pd\n",
    "index = pd.data_range('02/02/2020',periods=9,freq='T')\n",
    "series = pd.Series(range(9),index=index)\n",
    "print(series)\n",
    "print(series.resample('3T').sum())"
   ]
  },
  {
   "cell_type": "markdown",
   "metadata": {},
   "source": [
    "快速示例50"
   ]
  },
  {
   "cell_type": "code",
   "execution_count": null,
   "metadata": {},
   "outputs": [],
   "source": [
    "import pandas as pd\n",
    "df=pd.read_excel('time.xlsx')\n",
    "df1=df.set_index('订单付款时间')\n",
    "print(df1.resample('W').sum().head())"
   ]
  },
  {
   "cell_type": "markdown",
   "metadata": {},
   "source": [
    "快速示例51"
   ]
  },
  {
   "cell_type": "code",
   "execution_count": null,
   "metadata": {},
   "outputs": [],
   "source": [
    "import pandas as pd\n",
    "import numpy as np\n",
    "rng = pd.date_range('20200202', periods=2)\n",
    "S1=pd.Series(np.arange(1,3),index=rng)\n",
    "s1_6h_asfreq = s1.resample('6H').asfreq()\n",
    "print(s1_6h_asfreq)\n",
    "s1_6h_pad = s1.resample('6H').pad()\n",
    "print(s1_6h_pad)\n",
    "s1_6h_ffill = s1.resample('6H').ffill()\n",
    "print(s1_6h_ffill)\n",
    "s1_6h_bfill = s1.resample('6H').bfill()\n",
    "print(s1_6h_bfill)"
   ]
  },
  {
   "cell_type": "markdown",
   "metadata": {},
   "source": [
    "快速示例52"
   ]
  },
  {
   "cell_type": "code",
   "execution_count": null,
   "metadata": {},
   "outputs": [],
   "source": [
    "import pandas as pd\n",
    "import numpy as np\n",
    "rng = pd.date_range('2/2/2020', periods=12, freq='T')\n",
    "s1 = pd.Series(np.arange(12), index=rng)\n",
    "print(s1.resample('Smin').ohic())"
   ]
  },
  {
   "cell_type": "markdown",
   "metadata": {},
   "source": [
    "快速示例53"
   ]
  },
  {
   "cell_type": "code",
   "execution_count": null,
   "metadata": {},
   "outputs": [],
   "source": [
    "import pandas as pd\n",
    "index = pd.date_range('20200201','20200215')\n",
    "data = [3,6,7,4,2,1,3,8,9,10,13,22,14]\n",
    "s1_data = pd.Series(data,index)\n",
    "print(s1_data)"
   ]
  },
  {
   "cell_type": "markdown",
   "metadata": {},
   "source": [
    "快速示例54"
   ]
  },
  {
   "cell_type": "code",
   "execution_count": null,
   "metadata": {},
   "outputs": [],
   "source": [
    "s1_data.rolling(3).mean()"
   ]
  },
  {
   "cell_type": "markdown",
   "metadata": {},
   "source": [
    "快速示例55"
   ]
  },
  {
   "cell_type": "code",
   "execution_count": null,
   "metadata": {},
   "outputs": [],
   "source": [
    "s1_data.rolling(3,min_periods=1).mean()"
   ]
  },
  {
   "cell_type": "markdown",
   "metadata": {},
   "source": [
    "案例1：Excel 多表合并"
   ]
  },
  {
   "cell_type": "code",
   "execution_count": null,
   "metadata": {},
   "outputs": [],
   "source": [
    "import pandas as pd\n",
    "import glob\n",
    "filearray=[]\n",
    "filelocation=glob.glob(r'./aa/*.xlsx')\n",
    "for file in filelocation:\n",
    "    filearray.append(filename)\n",
    "    print(filename)\n",
    "res=pd.read_excel(filearray[0])\n",
    "for i in range(1,len(filearray)):\n",
    "    A = pd.read_excel(filearray[i])\n",
    "    res=pd.concat([res,A],ignore_index=True,sort=False)\n",
    "    print(res.index)\n",
    "writer = pd.ExcelWriter('all.xlsx')\n",
    "res.to_excel(writer,'Sheet1')\n",
    "writer.save()"
   ]
  },
  {
   "cell_type": "markdown",
   "metadata": {},
   "source": [
    "案例2：分析股票行情数据"
   ]
  },
  {
   "cell_type": "code",
   "execution_count": null,
   "metadata": {},
   "outputs": [],
   "source": [
    "import pandas as pd\n",
    "import numpy as np\n",
    "import matplotlib.pyplot as plt\n",
    "aa=r'000001.xlsx'\n",
    "pd.set_option('display.max_columns',500)\n",
    "pd.set_option('display_width',1000)\n",
    "pd.set_option('display.unicode.ambiguous_as_wide', True)\n",
    "pd.set_option('display.unicode.east_asian_width', True)\n",
    "df=pd.DataFrame(pd.read_excel(aa))\n",
    "df['date']= pd.to_datetime(df['date'])\n",
    "df=df.set_index('date')\n",
    "df=df[['close']]\n",
    "df['20天']=np.round(df['close'].rolling(window=20,center=False).mean(),2)\n",
    "df['50天']=np.round(df['close'].rolling(window=50,center=False).mean(),2)\n",
    "df['200天']=np.round(df['close'].rolling(window=200,center=False).mean(),2)\n",
    "plt.rcParams['fpmt.sans-serif']=['SimHei']\n",
    "df.plot(secondary_y=[\"收盘价\",\"20\",\"50\",\"200\"],grid = True)\n",
    "plt.legend(('收盘价','20天','50天','200天'),loc='upper right')\n",
    "plt.show()"
   ]
  }
 ],
 "metadata": {
  "kernelspec": {
   "display_name": ".venv",
   "language": "python",
   "name": "python3"
  },
  "language_info": {
   "codemirror_mode": {
    "name": "ipython",
    "version": 3
   },
   "file_extension": ".py",
   "mimetype": "text/x-python",
   "name": "python",
   "nbconvert_exporter": "python",
   "pygments_lexer": "ipython3",
   "version": "3.11.5"
  }
 },
 "nbformat": 4,
 "nbformat_minor": 2
}
