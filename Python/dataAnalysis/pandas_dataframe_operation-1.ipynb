{
 "cells": [
  {
   "cell_type": "markdown",
   "metadata": {},
   "source": [
    "## 数据访问和数据抽取 \n",
    "1. 数据抽取：提取部分数据生成一个新的DataFrame或Series。比如使用loc[], iloc[],查询(),切片等方法进行抽取。  \n",
    "2. 数据访问：直接访问数据,但不生成新对象。比如通过loc[], iloc[], at[]等方法直接访问某个或某些元素的值。  \n",
    "3. 提取内容：数据抽取可以用于提取行列的部分数据,而数据访问更适合定位到某个或几个具体的数据点。  \n",
    "\n",
    "### 数据抽取\n"
   ]
  },
  {
   "cell_type": "code",
   "execution_count": 1,
   "metadata": {},
   "outputs": [
    {
     "name": "stdout",
     "output_type": "stream",
     "text": [
      "   A  B  C\n",
      "0  1  4  7\n",
      "1  2  5  8\n",
      "2  3  6  9\n",
      "<class 'pandas.core.series.Series'>\n",
      "<class 'pandas.core.frame.DataFrame'>\n"
     ]
    }
   ],
   "source": [
    "import pandas as pd\n",
    "\n",
    "df = pd.DataFrame({'A': [1, 2, 3], \n",
    "                   'B': [4, 5, 6],\n",
    "                   'C': [7, 8, 9]})\n",
    "print(df)\n",
    "# 抽取A列生成一个新的Series\n",
    "A = df['A'] \n",
    "print(type(A))\n",
    "\n",
    "# 抽取前2行数据生成一个新的DataFrame\n",
    "df2 = df.loc[0:1]\n",
    "print(type(df2))"
   ]
  },
  {
   "cell_type": "markdown",
   "metadata": {},
   "source": [
    "### 数据访问"
   ]
  },
  {
   "cell_type": "code",
   "execution_count": 2,
   "metadata": {},
   "outputs": [
    {
     "name": "stdout",
     "output_type": "stream",
     "text": [
      "   A  B  C\n",
      "0  1  4  7\n",
      "1  2  5  8\n",
      "2  3  6  9\n",
      "1\n",
      "B    5\n",
      "C    8\n",
      "Name: 1, dtype: int64\n",
      "<class 'pandas.core.series.Series'>\n",
      "<class 'numpy.int64'>\n"
     ]
    }
   ],
   "source": [
    "import pandas as pd\n",
    "\n",
    "df = pd.DataFrame({'A': [1, 2, 3], \n",
    "                   'B': [4, 5, 6],\n",
    "                   'C': [7, 8, 9]})\n",
    "print(df)\n",
    "# 访问单个元素\n",
    "a = df.at[0, 'A']  \n",
    "print(a)\n",
    "\n",
    "# 访问多个元素\n",
    "b_c = df.iloc[1, [1, 2]]\n",
    "print(b_c)\n",
    "print(type(b_c))\n",
    "b_c = df.iloc[1, 1]\n",
    "print(type(b_c))\n"
   ]
  },
  {
   "cell_type": "markdown",
   "metadata": {},
   "source": [
    "## 数据抽取\n",
    "### 抽取一行数据\n",
    "示例：抽取一行名为“明日”的考试成绩数据"
   ]
  },
  {
   "cell_type": "code",
   "execution_count": 3,
   "metadata": {},
   "outputs": [
    {
     "name": "stdout",
     "output_type": "stream",
     "text": [
      "          语文  数学   英语\n",
      "明日       110   105   99.0\n",
      "七月流火   105    88  115.0\n",
      "高袁圆     109   120  130.0\n",
      "二月二     112   115    NaN\n",
      "语文    110.0\n",
      "数学    105.0\n",
      "英语     99.0\n",
      "Name: 明日, dtype: float64\n"
     ]
    }
   ],
   "source": [
    "import pandas as pd\n",
    "#解决数据输出时列名不对齐的问题\n",
    "pd.set_option('display.unicode.east_asian_width', True)\n",
    "data = [[110,105,99],[105,88,115],[109,120,130],[112,115]]\n",
    "name = ['明日','七月流火','高袁圆','二月二']\n",
    "columns = ['语文','数学','英语']\n",
    "df = pd.DataFrame(data=data, index=name, columns=columns)\n",
    "print(df)\n",
    "df1=df.loc['明日']\n",
    "#df1=df.iloc[0]\n",
    "print(df1)"
   ]
  },
  {
   "cell_type": "markdown",
   "metadata": {},
   "source": [
    "### 抽取多行数据\n",
    "示例：抽取多行考试成绩数据"
   ]
  },
  {
   "cell_type": "code",
   "execution_count": 4,
   "metadata": {},
   "outputs": [
    {
     "name": "stdout",
     "output_type": "stream",
     "text": [
      "        语文  数学   英语\n",
      "明日     110   105   99.0\n",
      "高袁圆   109   120  130.0\n",
      "----------------\n",
      "          语文  数学   英语\n",
      "明日       110   105   99.0\n",
      "七月流火   105    88  115.0\n",
      "高袁圆     109   120  130.0\n",
      "二月二     112   115    NaN\n",
      "          语文  数学   英语\n",
      "明日       110   105   99.0\n",
      "七月流火   105    88  115.0\n",
      "          语文  数学   英语\n",
      "明日       110   105   99.0\n",
      "七月流火   105    88  115.0\n",
      "高袁圆     109   120  130.0\n",
      "二月二     112   115    NaN\n",
      "          语文  数学   英语\n",
      "七月流火   105    88  115.0\n",
      "高袁圆     109   120  130.0\n",
      "二月二     112   115    NaN\n"
     ]
    }
   ],
   "source": [
    "import pandas as pd\n",
    "data = [[110,105,99],[105,88,115],[109,120,130],[112,115]]\n",
    "name = ['明日','七月流火','高袁圆','二月二']\n",
    "columns = ['语文','数学','英语']\n",
    "df = pd.DataFrame(data=data, index=name, columns=columns)\n",
    "df1=df.loc[['明日','高袁圆']]\n",
    "#df1=df.iloc[[0,2]]\n",
    "print(df1)\n",
    "print('----------------')\n",
    "#抽取连续任意多行数据\n",
    "print(df.loc['明日':'二月二']) #从“明日”到“二月二”\n",
    "print(df.loc[:'七月流火':])     #第1行到“七月流火”,有冒号和没有冒号一样\n",
    "print(df.iloc[0:4])            #第1行到第4行\n",
    "print(df.iloc[1::])            #第2行到最后1行"
   ]
  },
  {
   "cell_type": "markdown",
   "metadata": {},
   "source": [
    "### 抽取指定列数据\n",
    "1. 直接使用列名\n",
    "2. 使用loc属性和iloc属性"
   ]
  },
  {
   "cell_type": "code",
   "execution_count": 5,
   "metadata": {},
   "outputs": [
    {
     "name": "stdout",
     "output_type": "stream",
     "text": [
      "          语文  数学\n",
      "明日       110   105\n",
      "七月流火   105    88\n",
      "高袁圆     109   120\n",
      "二月二     112   115\n"
     ]
    }
   ],
   "source": [
    "import pandas as pd\n",
    "data = [[110,105,99],[105,88,115],[109,120,130],[112,115]]\n",
    "name = ['明日','七月流火','高袁圆','二月二']\n",
    "columns = ['语文','数学','英语']\n",
    "#抽取指定列数据——直接使用列名\n",
    "df = pd.DataFrame(data=data, index=name, columns=columns)\n",
    "df1=df[['语文','数学']]\n",
    "print(df1)"
   ]
  },
  {
   "cell_type": "code",
   "execution_count": 6,
   "metadata": {},
   "outputs": [
    {
     "name": "stdout",
     "output_type": "stream",
     "text": [
      "          语文  数学\n",
      "明日       110   105\n",
      "七月流火   105    88\n",
      "高袁圆     109   120\n",
      "二月二     112   115\n",
      "          语文  数学\n",
      "明日       110   105\n",
      "七月流火   105    88\n",
      "高袁圆     109   120\n",
      "二月二     112   115\n",
      "          语文  数学   英语\n",
      "明日       110   105   99.0\n",
      "七月流火   105    88  115.0\n",
      "高袁圆     109   120  130.0\n",
      "二月二     112   115    NaN\n",
      "          语文  数学\n",
      "明日       110   105\n",
      "七月流火   105    88\n",
      "高袁圆     109   120\n",
      "二月二     112   115\n"
     ]
    }
   ],
   "source": [
    "import pandas as pd\n",
    "data = [[110,105,99],[105,88,115],[109,120,130],[112,115]]\n",
    "name = ['明日','七月流火','高袁圆','二月二']\n",
    "columns = ['语文','数学','英语']\n",
    "#抽取指定列数据——使用loc方法和iloc方法\n",
    "print(df.loc[:,['语文','数学']])   #抽取“语文”和“数学”\n",
    "print(df.iloc[:,[0,1]])            #抽取第1列和第2列\n",
    "print(df.loc[:,'语文':])           #抽取从“语文”开始到最后一列\n",
    "print(df.iloc[:,:2])               #连续抽取从1列开始到第3列"
   ]
  },
  {
   "cell_type": "markdown",
   "metadata": {},
   "source": [
    "### 抽取指定行/列数据\n",
    "抽取指定行、列数据主要使用loc属性和iloc属性"
   ]
  },
  {
   "cell_type": "code",
   "execution_count": 7,
   "metadata": {},
   "outputs": [
    {
     "name": "stdout",
     "output_type": "stream",
     "text": [
      "115.0\n",
      "<class 'numpy.float64'>\n",
      "           英语\n",
      "七月流火  115.0\n",
      "          数学   英语\n",
      "七月流火    88  115.0\n"
     ]
    }
   ],
   "source": [
    "import pandas as pd\n",
    "data = [[110,105,99],[105,88,115],[109,120,130],[112,115]]\n",
    "name = ['明日','七月流火','高袁圆','二月二']\n",
    "columns = ['语文','数学','英语']\n",
    "df = pd.DataFrame(data=data, index=name, columns=columns)\n",
    "\n",
    "#抽取指定行列数据\n",
    "print(df.loc['七月流火','英语'])              # “英语”成绩，输出的是数据\n",
    "print(type(df.loc['七月流火','英语']))   #输出结果是一个数，不是数据，是由于“df.loc[七月流火，英语]没有使用方括号，导致输出的数据不是DataFrame类型。\n",
    "print(df.loc[['七月流火'],['英语']])          #“七月流火”的“英语”成绩\n",
    "print(df.loc[['七月流火'],['数学','英语']])   #“七月流火”的“数学”和“英语”成绩"
   ]
  },
  {
   "cell_type": "code",
   "execution_count": null,
   "metadata": {},
   "outputs": [],
   "source": [
    "import pandas as pd\n",
    "data = [[110,105,99],[105,88,115],[109,120,130],[112,115]]\n",
    "name = ['明日','七月流火','高袁圆','二月二']\n",
    "columns = ['语文','数学','英语']\n",
    "df = pd.DataFrame(data=data, index=name, columns=columns)\n",
    "print(df)\n",
    "print(df.iloc[[1],[2]])                       #第2行第3列\n",
    "print(df.iloc[1:,[2]])                        #第2行到最后一行的第3列\n",
    "print(df.iloc[1:,[0,2]])                      #第2行到最后一行的第1列和第3列\n",
    "print(df.iloc[:,2])                           #所有行，第3列"
   ]
  },
  {
   "cell_type": "markdown",
   "metadata": {},
   "source": [
    "### 中括号的重要性"
   ]
  },
  {
   "cell_type": "code",
   "execution_count": null,
   "metadata": {},
   "outputs": [],
   "source": [
    "import pandas as pd\n",
    "data = [[110,105,99],[105,88,115],[109,120,130],[112,115]]\n",
    "name = ['明日','七月流火','高袁圆','二月二']\n",
    "columns = ['语文','数学','英语']\n",
    "# 中括号的重要性\n",
    "print(df.iloc[1,2])           #第一行的第3列\n",
    "print(df.iloc[[1],[2]])\n"
   ]
  },
  {
   "cell_type": "markdown",
   "metadata": {},
   "source": [
    "### 抽取指定条件数据\n",
    "示例：抽取语文成绩大于105，数学成绩大于88的数据"
   ]
  },
  {
   "cell_type": "code",
   "execution_count": null,
   "metadata": {},
   "outputs": [],
   "source": [
    "import pandas as pd\n",
    "data = [[110,105,99],[105,88,115],[109,120,130],[112,115]]\n",
    "name = ['明日','七月流火','高袁圆','二月二']\n",
    "columns = ['语文','数学','英语']\n",
    "df = pd.DataFrame(data=data, index=name, columns=columns)\n",
    "\n",
    "#按指定条件抽取数据\n",
    "print(df)\n",
    "df1=df.loc[(df['语文'] > 105) & (df['数学'] >88)]\n",
    "print(df1)\n"
   ]
  },
  {
   "cell_type": "markdown",
   "metadata": {},
   "source": [
    "### 数据抽取题目\n",
    "\n",
    "1. 有以下DataFrame,请抽取name和gender两列:\n",
    "\n",
    "| name | age | gender |  \n",
    "|-|-|-|  \n",
    "| 张三 | 25 | 男 |\n",
    "| 李四 | 26 | 女 |\n",
    "| 王五 | 24 | 男 |\n",
    "\n",
    "2. 有以下DataFrame,请抽取class为2班和3班的所有数据:\n",
    "\n",
    "| name | class | gender |\n",
    "|-|-|-|\n",
    "| 张三 | 1班 | 男 |  \n",
    "| 李四 | 2班 | 女 |\n",
    "| 王五 | 3班 | 男 |\n",
    "\n",
    "3. 有以下DataFrame,请抽取数学成绩低于95分的所有行:\n",
    "\n",
    "| name | math |\n",
    "|-|-|\n",
    "| 张三 | 96 |\n",
    "| 李四 | 90 |\n",
    "| 王五 | 91 |\n",
    "\n",
    "4. 有以下DataFrame,请抽取第2列和第3列的数据:\n",
    "\n",
    "| A | B | C |\n",
    "|-|-|-|\n",
    "| 1 | 2 | 3 |\n",
    "| 4 | 5 | 6 | \n",
    "| 7 | 8 | 9 |\n",
    "\n",
    "5. 有以下DataFrame,请抽取王五和李四两行name和english两列的数据:\n",
    "\n",
    "| name | english | math | \n",
    "|-|-|-|\n",
    "| 张三 | 80 | 78 |\n",
    "| 李四 | 75 | 92 |\n",
    "| 王五 | 81 | 84 |\n",
    "\n"
   ]
  },
  {
   "cell_type": "code",
   "execution_count": 2,
   "metadata": {},
   "outputs": [
    {
     "name": "stdout",
     "output_type": "stream",
     "text": [
      "1. 有以下DataFrame，请抽取name和gender两列:\n",
      "  name gender\n",
      "0   张三      男\n",
      "1   李四      女\n",
      "2   王五      男\n"
     ]
    }
   ],
   "source": [
    "import pandas as pd\n",
    "\n",
    "# 数据抽取题目\n",
    "\n",
    "# 1. 有以下DataFrame，请抽取name和gender两列:\n",
    "data1 = {\n",
    "    'name': ['张三', '李四', '王五'],\n",
    "    'age': [25, 26, 24],\n",
    "    'gender': ['男', '女', '男']\n",
    "}\n",
    "df1 = pd.DataFrame(data1)\n",
    "selected_columns1 = df1[['name', 'gender']]\n",
    "print(\"1. 有以下DataFrame，请抽取name和gender两列:\")\n",
    "print(selected_columns1)"
   ]
  },
  {
   "cell_type": "code",
   "execution_count": 3,
   "metadata": {},
   "outputs": [
    {
     "name": "stdout",
     "output_type": "stream",
     "text": [
      "0    False\n",
      "1     True\n",
      "2     True\n",
      "Name: class, dtype: bool\n",
      "\n",
      "2. 有以下DataFrame，请抽取class为2班和3班的所有数据:\n",
      "  name class gender\n",
      "1   李四    2班      女\n",
      "2   王五    3班      男\n"
     ]
    }
   ],
   "source": [
    "# 2. 有以下DataFrame，请抽取class为2班和3班的所有数据:\n",
    "data2 = {\n",
    "    'name': ['张三', '李四', '王五'],\n",
    "    'class': ['1班', '2班', '3班'],\n",
    "    'gender': ['男', '女', '男']\n",
    "}\n",
    "df2 = pd.DataFrame(data2)\n",
    "selected_rows2 = df2[df2['class'].isin(['2班', '3班'])]\n",
    "print(\"\\n2. 有以下DataFrame，请抽取class为2班和3班的所有数据:\")\n",
    "print(selected_rows2)"
   ]
  },
  {
   "cell_type": "code",
   "execution_count": null,
   "metadata": {},
   "outputs": [],
   "source": [
    "# 3. 有以下DataFrame，请抽取数学成绩低于95分的所有行:\n",
    "data3 = {\n",
    "    'name': ['张三', '李四', '王五'],\n",
    "    'math': [96, 90, 91]\n",
    "}\n",
    "df3 = pd.DataFrame(data3)\n",
    "selected_rows3 = df3[df3.loc[:,'math'] < 95]\n",
    "print(\"\\n3. 有以下DataFrame，请抽取数学成绩低于95分的所有行:\")\n",
    "print(selected_rows3)"
   ]
  },
  {
   "cell_type": "code",
   "execution_count": null,
   "metadata": {},
   "outputs": [],
   "source": [
    "# 4. 有以下DataFrame，请抽取第2列和第3列的数据:\n",
    "data4 = {\n",
    "    'A': [1, 4, 7],\n",
    "    'B': [2, 5, 8],\n",
    "    'C': [3, 6, 9]\n",
    "}\n",
    "df4 = pd.DataFrame(data4)\n",
    "selected_columns4 = df4.iloc[:, 1:3]\n",
    "print(\"\\n4. 有以下DataFrame，请抽取第2列和第3列的数据:\")\n",
    "print(selected_columns4)"
   ]
  },
  {
   "cell_type": "code",
   "execution_count": null,
   "metadata": {},
   "outputs": [],
   "source": [
    "# 5. 有以下DataFrame，请抽取王五和李四两行name和english两列的数据:\n",
    "data5 = {\n",
    "    'name': ['张三', '李四', '王五'],\n",
    "    'english': [80, 75, 81],\n",
    "    'math': [78, 92, 84]\n",
    "}\n",
    "df5 = pd.DataFrame(data5)\n",
    "selected_data5 = df5.loc[df5['name'].isin(['王五', '李四']), ['name', 'english']]\n",
    "print(\"\\n5. 有以下DataFrame，请抽取王五和李四两行name和english两列的数据:\")\n",
    "print(selected_data5)"
   ]
  },
  {
   "cell_type": "markdown",
   "metadata": {},
   "source": [
    "### isin() 方法\n",
    "isin() 方法可以传递一个包含多个值的列表，用于过滤 DataFrame 中符合条件的行。"
   ]
  },
  {
   "cell_type": "code",
   "execution_count": 8,
   "metadata": {},
   "outputs": [
    {
     "name": "stdout",
     "output_type": "stream",
     "text": [
      "Selected Cities:\n",
      "        City  Population (millions)\n",
      "0  New York                    8.4\n",
      "2   Chicago                    2.7\n",
      "4   Phoenix                    1.7\n",
      "\n",
      "Excluded Cities:\n",
      "        City  Population (millions)\n",
      "0  New York                    8.4\n",
      "2   Chicago                    2.7\n",
      "4   Phoenix                    1.7\n",
      "\n",
      "Selected Cities with Population > 2.5 million:\n",
      "        City  Population (millions)\n",
      "0  New York                    8.4\n",
      "2   Chicago                    2.7\n",
      "\n",
      "Selected Data with City and Population Criteria:\n",
      "        City  Population (millions)\n",
      "0  New York                    8.4\n",
      "2   Chicago                    2.7\n"
     ]
    }
   ],
   "source": [
    "import pandas as pd\n",
    "\n",
    "# 创建DataFrame\n",
    "data = {'City': ['New York', 'Los Angeles', 'Chicago', 'Houston', 'Phoenix'],\n",
    "        'Population (millions)': [8.4, 3.9, 2.7, 2.3, 1.7]}\n",
    "df = pd.DataFrame(data)\n",
    "\n",
    "# 选择包含特定城市的行\n",
    "selected_cities = df[df['City'].isin(['New York', 'Chicago', 'Phoenix'])]\n",
    "print(\"Selected Cities:\\n\", selected_cities)\n",
    "\n",
    "# 选择不包含特定城市的行\n",
    "excluded_cities = df[~df['City'].isin(['Los Angeles', 'Houston'])]\n",
    "print(\"\\nExcluded Cities:\\n\", excluded_cities)\n",
    "\n",
    "# 使用多个条件组合 isin() #选择城市为'New York'或'Chicago'，且人口大于2.5百万的行。\n",
    "selected_cities = df[df['City'].isin(['New York', 'Chicago']) & (df['Population (millions)'] > 2.5)]\n",
    "print(\"\\nSelected Cities with Population > 2.5 million:\\n\", selected_cities)\n",
    "\n",
    "# 使用 isin() 过滤出多列条件\n",
    "selected_data = df[df['City'].isin(['New York', 'Chicago']) & df['Population (millions)'].isin([8.4, 2.7])]\n",
    "print(\"\\nSelected Data with City and Population Criteria:\\n\", selected_data)"
   ]
  },
  {
   "cell_type": "markdown",
   "metadata": {},
   "source": [
    "## 数据操作\n",
    "### 增加数据"
   ]
  },
  {
   "cell_type": "markdown",
   "metadata": {},
   "source": [
    "1. 列数据增加  \n",
    "直接为dataframe对象赋值  \n",
    "使用loc属性再dataframe对象的最后增加一列  \n",
    "在指定位置插入一列"
   ]
  },
  {
   "cell_type": "code",
   "execution_count": 4,
   "metadata": {},
   "outputs": [
    {
     "name": "stdout",
     "output_type": "stream",
     "text": [
      "          语文  数学  英语  物理\n",
      "明日       110   105    99    88\n",
      "七月流火   105    88   115    79\n",
      "高袁圆     109   120   130    60\n",
      "二月二     112   115   140    50\n",
      "          语文  数学  英语  物理\n",
      "明日       110   105    99    88\n",
      "七月流火   105    88   115    79\n",
      "高袁圆     109   120   130    60\n",
      "二月二     112   115   140    50\n",
      "          语文  物理  数学  英语\n",
      "明日       110    88   105    99\n",
      "七月流火   105    79    88   115\n",
      "高袁圆     109    60   120   130\n",
      "二月二     112    50   115   140\n"
     ]
    }
   ],
   "source": [
    "import pandas as pd\n",
    "#解决数据输出时列名不对齐的问题\n",
    "pd.set_option('display.unicode.east_asian_width', True)\n",
    "data = [[110,105,99],[105,88,115],[109,120,130],[112,115,140]]\n",
    "name = ['明日','七月流火','高袁圆','二月二']\n",
    "columns = ['语文','数学','英语']\n",
    "df1 = pd.DataFrame(data=data, index=name, columns=columns)\n",
    "df2 = pd.DataFrame(data=data, index=name, columns=columns)\n",
    "df3 = pd.DataFrame(data=data, index=name, columns=columns)\n",
    "\n",
    "#增加数据——按列增加数据\n",
    "df1['物理']=[88,79,60,50]  #直接改变了原来的数据\n",
    "print(df1)\n",
    "#增加数据,使用loc方法\n",
    "df2.loc[:,'物理'] = [88,79,60,50]   #在最后插入“物理”一列，其值为等号右边数据\n",
    "print(df2)\n",
    "#增加数据，使用insert方法\n",
    "wl =[88,79,60,50]\n",
    "df3.insert(1,'物理',wl) #在第1列后面插入“物理”，其值为wl的数值。\n",
    "print(df3)"
   ]
  },
  {
   "cell_type": "markdown",
   "metadata": {},
   "source": [
    "2. 按行增加数据  \n",
    "增加一行数据主要使用loc属性实现。  \n",
    "增加多行数据主要使用字典结合append()方法实现。  \n",
    "示例：增加一行“钱多多”同学的成绩"
   ]
  },
  {
   "cell_type": "code",
   "execution_count": 5,
   "metadata": {},
   "outputs": [
    {
     "name": "stdout",
     "output_type": "stream",
     "text": [
      "        语文  数学  英语\n",
      "钱多多   100   120    99\n",
      "童年     123   142   139\n",
      "无名     138    60    99\n",
      "          语文  数学  英语\n",
      "明日       110   105    99\n",
      "七月流火   105    88   115\n",
      "高袁圆     109   120   130\n",
      "二月二     112   115   140\n",
      "钱多多     100   120    99\n",
      "童年       123   142   139\n",
      "无名       138    60    99\n"
     ]
    },
    {
     "name": "stderr",
     "output_type": "stream",
     "text": [
      "C:\\Users\\wangy\\AppData\\Local\\Temp\\ipykernel_10336\\1466646821.py:13: FutureWarning: The frame.append method is deprecated and will be removed from pandas in a future version. Use pandas.concat instead.\n",
      "  df1 = df.append(df_insert)\n"
     ]
    }
   ],
   "source": [
    "import pandas as pd\n",
    "data = [[110,105,99],[105,88,115],[109,120,130],[112,115,140]]\n",
    "name = ['明日','七月流火','高袁圆','二月二']\n",
    "columns = ['语文','数学','英语']\n",
    "df = pd.DataFrame(data=data, index=name, columns=columns)\n",
    "\n",
    "# #按行增加数据，增加一行数据\n",
    "# df.loc['钱多多'] = [100,120,99]\n",
    "# print(df)\n",
    "#按行增加数据，增加多行数据\n",
    "df_insert = pd.DataFrame({'语文':[100,123,138],'数学':[120,142,60],'英语':[99,139,99]},index = ['钱多多','童年','无名'])\n",
    "print(df_insert)\n",
    "df1 = df.append(df_insert)\n",
    "print(df1)"
   ]
  },
  {
   "cell_type": "markdown",
   "metadata": {},
   "source": [
    "### 修改数据"
   ]
  },
  {
   "cell_type": "markdown",
   "metadata": {},
   "source": [
    "1. 修改列标题  \n",
    "使用DataFrame对象的cloumns属性直接赋值  \n",
    "使用rename()方法修改列标题  \n",
    "示例：将“数学”修改为“数学（上）”"
   ]
  },
  {
   "cell_type": "code",
   "execution_count": 6,
   "metadata": {},
   "outputs": [
    {
     "name": "stdout",
     "output_type": "stream",
     "text": [
      "          语文  数学（上）  英语\n",
      "明日       110         105    99\n",
      "七月流火   105          88   115\n",
      "高袁圆     109         120   130\n",
      "二月二     112         115   140\n",
      "          语文（上）  数学（上）  英语（上）\n",
      "明日             110         105          99\n",
      "七月流火         105          88         115\n",
      "高袁圆           109         120         130\n",
      "二月二           112         115         140\n"
     ]
    }
   ],
   "source": [
    "import pandas as pd\n",
    "data = [[110,105,99],[105,88,115],[109,120,130],[112,115,140]]\n",
    "name = ['明日','七月流火','高袁圆','二月二']\n",
    "columns = ['语文','数学','英语']\n",
    "df = pd.DataFrame(data=data, index=name, columns=columns)\n",
    "\n",
    "# 修改“数学”的列名\n",
    "df.columns=['语文','数学（上）','英语']\n",
    "print(df)\n",
    "\n",
    "# 使用rename()\n",
    "# 参数inplace为True，表示直接修改df;否则，不修改df，只返回修改后的数据。\n",
    "df.rename(columns = {'语文':'语文（上）','数学':'数学（上）','英语':'英语（上）'},inplace = True)\n",
    "print(df)"
   ]
  },
  {
   "cell_type": "markdown",
   "metadata": {},
   "source": [
    "2. 修改行标题  \n",
    "使用DataFrame对象的index属性直接赋值  \n",
    "使用rename()方法修改列标题  \n",
    "示例：将行标题统一修改为数字编号\n"
   ]
  },
  {
   "cell_type": "code",
   "execution_count": 7,
   "metadata": {},
   "outputs": [
    {
     "name": "stdout",
     "output_type": "stream",
     "text": [
      "   语文  数学  英语\n",
      "1   110   105    99\n",
      "2   105    88   115\n",
      "3   109   120   130\n",
      "4   112   115   140\n"
     ]
    }
   ],
   "source": [
    "import pandas as pd\n",
    "data = [[110,105,99],[105,88,115],[109,120,130],[112,115,140]]\n",
    "name = ['明日','七月流火','高袁圆','二月二']\n",
    "columns = ['语文','数学','英语']\n",
    "df = pd.DataFrame(data=data, index=name, columns=columns)\n",
    "\n",
    "df.index=list('1234')\n",
    "print(df)\n",
    "\n",
    "# #使用rename属性\n",
    "# #参数inplace为True，表示直接修改df;否则，不修改df，只返回修改后的数据。\n",
    "# df.rename({'明日':1,'七月流火':2,'高袁圆':3,'二月二':4},axis=0,inplace = True)\n",
    "# print(df)"
   ]
  },
  {
   "cell_type": "markdown",
   "metadata": {},
   "source": [
    "3. 修改数据：使用loc属性和iloc属性  \n",
    "* 使用loc属性   \n",
    "修改整行数据  \n",
    "修改整列数据  \n",
    "修改某一数据    \n",
    "* 使用iloc属性修改数据  \n",
    "\n",
    "示例：修改学生成绩数据\n"
   ]
  },
  {
   "cell_type": "code",
   "execution_count": null,
   "metadata": {},
   "outputs": [],
   "source": [
    "import pandas as pd\n",
    "#解决数据输出时列名不对齐的问题\n",
    "pd.set_option('display.unicode.east_asian_width', True)\n",
    "data = [[110,105,99],[105,88,115],[109,120,130],[112,115,140]]\n",
    "name = ['明日','七月流火','高袁圆','二月二']\n",
    "columns = ['语文','数学','英语']\n",
    "df = pd.DataFrame(data=data, index=name, columns=columns)\n",
    "print(df)\n",
    "#修改整行数据\n",
    "df.loc['明日']=[120,115,109]\n",
    "\n",
    "# #各科成绩均加10分\n",
    "# df.loc['明日']=df.loc['明日']+10\n",
    "\n",
    "# #修改整列数据\n",
    "# df.loc[:,'语文']=[115,108,112,118]\n",
    "\n",
    "# #修改某一数据\n",
    "# df.loc['明日','语文']=115\n",
    "\n",
    "# #使用iloc方法修改数据\n",
    "# df.iloc[0,0]=115                   #修改某一数据\n",
    "# df.iloc[:,0]=[115,108,112,118]    #修改整列数据\n",
    "# df.iloc[0,:]=[120,115,109]        #修改整行数据\n",
    "\n",
    "print(df)"
   ]
  },
  {
   "cell_type": "markdown",
   "metadata": {},
   "source": [
    "### 删除数据\n",
    "使用drop()方法\n",
    "1. 删除行列数据\n",
    "2. 删除特定条件的行"
   ]
  },
  {
   "cell_type": "code",
   "execution_count": null,
   "metadata": {},
   "outputs": [],
   "source": [
    "import pandas as pd\n",
    "data = [[110,105,99],[105,88,115],[109,120,130],[112,115,140]]\n",
    "name = ['明日','七月流火','高袁圆','二月二']\n",
    "columns = ['语文','数学','英语']\n",
    "df1 = pd.DataFrame(data=data, index=name, columns=columns)\n",
    "df2 = pd.DataFrame(data=data, index=name, columns=columns)\n",
    "print(df1)\n",
    "#删除行列数据，一行一行的演示\n",
    "#df1.drop(['数学'],axis=1,inplace=True)                       #删除某列\n",
    "# df1.drop(columns='数学',inplace=True)                      #删除columns为“数学”的列\n",
    "# df1.drop(['明日','二月二'],inplace=True)                    #删除某行\n",
    "# df1.drop(index='明日',inplace=True)                        #删除index为“明日”的行\n",
    "# df1.drop(labels='明日', axis=0,inplace=True)               #删除行标签为“明日”的行\n",
    "# df1.drop(labels='数学', axis=1,inplace=True)               #删除列标签为“数学” 的列\n",
    "# print(df1)\n",
    "\n",
    "#删除特定条件的行\n",
    "# print(df2[df2['数学'].isin([88])])\n",
    "# df2.drop(index=df[df['数学'].isin([88])].index[0],inplace=True)    #删除“数学”包含88的行\n",
    "\n",
    "\n",
    "print(df2[df2['语文']<110])\n",
    "df2.drop(index=df2[df2['语文']<110].index[0],inplace=True)           #删除“语文”成绩小于110的行\n",
    "# 注意：语文成绩有两人小于110，但是只删除了第一个\n",
    "print(df2)"
   ]
  },
  {
   "cell_type": "markdown",
   "metadata": {},
   "source": [
    "### 数据增删改题目\n",
    "\n",
    "6. 有以下DataFrame,请添加一列gender,值分别为['男','女','男']:\n",
    "\n",
    "| name | age | \n",
    "|-|-|\n",
    "| 张三 | 25 |\n",
    "| 李四 | 26 |  \n",
    "| 王五 | 24 |\n",
    "\n",
    "7. 有以下DataFrame,请删除name这一列:\n",
    "\n",
    "| name | age | gender |\n",
    "|-|-|-| \n",
    "| 张三 | 25 | 男 |\n",
    "| 李四 | 26 | 女 |\n",
    "| 王五 | 24 | 男 |\n",
    "\n",
    "8. 有以下DataFrame,请将score的所有值加10:\n",
    "\n",
    "| name | score | \n",
    "|-|-|\n",
    "| 张三 | 80 |\n",
    "| 李四 | 75 |\n",
    "| 王五 | 81 |\n",
    "\n",
    "9. 有以下DataFrame,请将english这一列名称修改为en:\n",
    "\n",
    "| name | english | math |\n",
    "|-|-|-|  \n",
    "| 张三 | 80 | 78 |\n",
    "| 李四 | 75 | 92 |\n",
    "| 王五 | 81 | 84 |\n",
    "\n",
    "10. 有以下DataFrame,请增加一行数据,name为赵六,english为85,math为90:\n",
    "\n",
    "| name | english | math |\n",
    "|-|-|-|\n",
    "| 张三 | 80 | 78 |  \n",
    "| 李四 | 75 | 92 |\n",
    "| 王五 | 81 | 84 |\n"
   ]
  }
 ],
 "metadata": {
  "kernelspec": {
   "display_name": "base",
   "language": "python",
   "name": "python3"
  },
  "language_info": {
   "codemirror_mode": {
    "name": "ipython",
    "version": 3
   },
   "file_extension": ".py",
   "mimetype": "text/x-python",
   "name": "python",
   "nbconvert_exporter": "python",
   "pygments_lexer": "ipython3",
   "version": "3.11.5"
  },
  "orig_nbformat": 4
 },
 "nbformat": 4,
 "nbformat_minor": 2
}
