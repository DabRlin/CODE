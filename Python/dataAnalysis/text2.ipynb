{
 "cells": [
  {
   "cell_type": "code",
   "execution_count": 3,
   "metadata": {},
   "outputs": [
    {
     "name": "stdout",
     "output_type": "stream",
     "text": [
      "      age gender\n",
      "name            \n",
      "张三     25      男\n",
      "李四     26      女\n",
      "王五     24      男\n"
     ]
    }
   ],
   "source": [
    "import pandas as pd\n",
    "\n",
    "data = {'name': ['张三', '李四', '王五'],\n",
    "        'age': [25, 26, 24],\n",
    "        'gender': ['男', '女', '男']}\n",
    "df = pd.DataFrame(data)\n",
    "\n",
    "# 设置'name'列为索引\n",
    "df.set_index('name', inplace=True)\n",
    "\n",
    "# 打印DataFrame\n",
    "print(df)\n"
   ]
  },
  {
   "cell_type": "code",
   "execution_count": 1,
   "metadata": {},
   "outputs": [
    {
     "name": "stdout",
     "output_type": "stream",
     "text": [
      "            age\n",
      "name class     \n",
      "张三   高一1班    15\n",
      "李四   高一2班    16\n",
      "王五   高一3班    15\n"
     ]
    }
   ],
   "source": [
    "import pandas as pd\n",
    "\n",
    "data = {'name': ['张三', '李四', '王五'],\n",
    "        'class': ['高一1班', '高一2班', '高一3班'],\n",
    "        'age': [15, 16, 15]}\n",
    "df = pd.DataFrame(data)\n",
    "\n",
    "# 设置多重索引，包括'name'和'class'\n",
    "df.set_index(['name', 'class'], inplace=True)\n",
    "\n",
    "# 打印DataFrame\n",
    "print(df)\n"
   ]
  },
  {
   "cell_type": "code",
   "execution_count": 2,
   "metadata": {},
   "outputs": [
    {
     "name": "stdout",
     "output_type": "stream",
     "text": [
      "      name\n",
      "score     \n",
      "88      张三\n",
      "90      李四\n",
      "95      王五\n"
     ]
    }
   ],
   "source": [
    "import pandas as pd\n",
    "\n",
    "data = {'name': ['张三', '李四', '王五'],\n",
    "        'score': [88, 90, 95]}\n",
    "df = pd.DataFrame(data)\n",
    "\n",
    "# 设置'score'列为索引\n",
    "df.set_index('score', inplace=True)\n",
    "\n",
    "# 打印DataFrame\n",
    "print(df)\n"
   ]
  },
  {
   "cell_type": "code",
   "execution_count": 6,
   "metadata": {},
   "outputs": [
    {
     "name": "stdout",
     "output_type": "stream",
     "text": [
      "  name  score\n",
      "2   王五     95\n",
      "1   李四     90\n",
      "0   张三     88\n"
     ]
    }
   ],
   "source": [
    "import pandas as pd\n",
    "\n",
    "data = {'name': ['张三', '李四', '王五'],\n",
    "        'score': [88, 90, 95]}\n",
    "df = pd.DataFrame(data)\n",
    "\n",
    "# 按'score'列降序排序\n",
    "df = df.sort_values(by='score', ascending=False)\n",
    "\n",
    "# 打印排序后的DataFrame\n",
    "print(df)\n"
   ]
  },
  {
   "cell_type": "code",
   "execution_count": 7,
   "metadata": {},
   "outputs": [
    {
     "name": "stdout",
     "output_type": "stream",
     "text": [
      "  name  english  math\n",
      "1   李四       82    77\n",
      "2   王五       81    75\n",
      "0   张三       80    76\n"
     ]
    }
   ],
   "source": [
    "import pandas as pd\n",
    "\n",
    "data = {'name': ['张三', '李四', '王五'],\n",
    "        'english': [80, 82, 81],\n",
    "        'math': [76, 77, 75]}\n",
    "df = pd.DataFrame(data)\n",
    "\n",
    "# 先按'english'列降序排序，再按'math'列升序排序\n",
    "df = df.sort_values(by=['english', 'math'], ascending=[False, True])\n",
    "\n",
    "# 打印排序后的DataFrame\n",
    "print(df)\n",
    "    "
   ]
  },
  {
   "cell_type": "code",
   "execution_count": 5,
   "metadata": {},
   "outputs": [
    {
     "name": "stdout",
     "output_type": "stream",
     "text": [
      "  name  math  math_rank\n",
      "0   张三    95        2.0\n",
      "1   李四    97        1.0\n",
      "2   王五    90        3.0\n"
     ]
    }
   ],
   "source": [
    "import pandas as pd\n",
    "\n",
    "data = {'name': ['张三', '李四', '王五'],\n",
    "        'math': [95, 97, 90]}\n",
    "df = pd.DataFrame(data)\n",
    "\n",
    "# 计算'math'列的排名，并将结果保存到新列'math_rank'中\n",
    "df['math_rank'] = df['math'].rank(ascending=False, method='min')\n",
    "\n",
    "# 打印DataFrame\n",
    "print(df)\n"
   ]
  },
  {
   "cell_type": "code",
   "execution_count": 4,
   "metadata": {},
   "outputs": [
    {
     "name": "stdout",
     "output_type": "stream",
     "text": [
      "平均排名: 2.0\n"
     ]
    }
   ],
   "source": [
    "import pandas as pd\n",
    "\n",
    "data = {'name': ['张三', '李四', '王五'],\n",
    "        'english': [80, 75, 81]}\n",
    "df = pd.DataFrame(data)\n",
    "\n",
    "# 计算'english'列的排名，并将结果保存到新列'english_rank'中\n",
    "df['english_rank'] = df['english'].rank(ascending=False, method='min')\n",
    "\n",
    "# 计算'english_rank'列的平均值\n",
    "average_rank = df['english_rank'].mean()\n",
    "\n",
    "# 打印平均排名\n",
    "print(\"平均排名:\", average_rank)\n"
   ]
  }
 ],
 "metadata": {
  "kernelspec": {
   "display_name": ".venv",
   "language": "python",
   "name": "python3"
  },
  "language_info": {
   "codemirror_mode": {
    "name": "ipython",
    "version": 3
   },
   "file_extension": ".py",
   "mimetype": "text/x-python",
   "name": "python",
   "nbconvert_exporter": "python",
   "pygments_lexer": "ipython3",
   "version": "3.11.5"
  }
 },
 "nbformat": 4,
 "nbformat_minor": 2
}
