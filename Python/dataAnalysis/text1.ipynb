{
 "cells": [
  {
   "cell_type": "code",
   "execution_count": 2,
   "metadata": {},
   "outputs": [
    {
     "name": "stdout",
     "output_type": "stream",
     "text": [
      "语文    110.0\n",
      "数学    105.0\n",
      "英语     99.0\n",
      "Name: 明日, dtype: float64\n"
     ]
    }
   ],
   "source": [
    "import pandas as pd\n",
    "pd.set_option('display.unicode.east_asian_width', True)  # Corrected option name\n",
    "data = [[110, 105, 99], [105, 88, 115], [109, 120, 130], [112, 115]]\n",
    "name = ['明日', '七月流火', '高圆圆', '二月二']\n",
    "columns = ['语文', '数学', '英语']\n",
    "df = pd.DataFrame(data=data, index=name, columns=columns)\n",
    "print(df.loc['明日'])\n"
   ]
  },
  {
   "cell_type": "code",
   "execution_count": 5,
   "metadata": {},
   "outputs": [
    {
     "name": "stdout",
     "output_type": "stream",
     "text": [
      "        语文  数学   英语\n",
      "明日     110   105   99.0\n",
      "高圆圆   109   120  130.0\n"
     ]
    }
   ],
   "source": [
    "result = df.loc[['明日', '高圆圆']  ]\n",
    "print(result)"
   ]
  },
  {
   "cell_type": "code",
   "execution_count": 2,
   "metadata": {},
   "outputs": [
    {
     "name": "stdout",
     "output_type": "stream",
     "text": [
      "语文    110.0\n",
      "数学    105.0\n",
      "英语     99.0\n",
      "Name: 明日, dtype: float64\n",
      "          语文  数学\n",
      "明日       110   105\n",
      "七月流火   105    88\n",
      "高圆圆     109   120\n",
      "二月二     112   115\n",
      "          语文  数学\n",
      "明日       110   105\n",
      "七月流火   105    88\n",
      "高圆圆     109   120\n",
      "二月二     112   115\n",
      "          语文  数学\n",
      "明日       110   105\n",
      "七月流火   105    88\n",
      "高圆圆     109   120\n",
      "二月二     112   115\n",
      "          语文  数学   英语\n",
      "明日       110   105   99.0\n",
      "七月流火   105    88  115.0\n",
      "高圆圆     109   120  130.0\n",
      "二月二     112   115    NaN\n",
      "          语文  数学\n",
      "明日       110   105\n",
      "七月流火   105    88\n",
      "高圆圆     109   120\n",
      "二月二     112   115\n"
     ]
    }
   ],
   "source": [
    "import pandas as pd\n",
    "pd.set_option('display.unicode.east_asian_width', True)  # Corrected option name\n",
    "data = [[110, 105, 99], [105, 88, 115], [109, 120, 130], [112, 115]]\n",
    "name = ['明日', '七月流火', '高圆圆', '二月二']\n",
    "columns = ['语文', '数学', '英语']\n",
    "df = pd.DataFrame(data=data, index=name, columns=columns)\n",
    "print(df.loc['明日'])\n",
    "print(df[['语文','数学']])\n",
    "print(df.loc[:,['语文','数学']])\n",
    "print(df.iloc[:,[0,1]])\n",
    "print(df.loc[:,'语文':])\n",
    "print(df.iloc[:,:2])"
   ]
  },
  {
   "cell_type": "code",
   "execution_count": 5,
   "metadata": {},
   "outputs": [
    {
     "name": "stdout",
     "output_type": "stream",
     "text": [
      "        语文  数学   英语\n",
      "明日     110   105   99.0\n",
      "高圆圆   109   120  130.0\n",
      "二月二   112   115    NaN\n"
     ]
    }
   ],
   "source": [
    "import pandas as pd\n",
    "pd.set_option('display.unicode.east_asian_width', True)  # Corrected option name\n",
    "data = [[110, 105, 99], [105, 88, 115], [109, 120, 130], [112, 115]]\n",
    "name = ['明日', '七月流火', '高圆圆', '二月二']\n",
    "columns = ['语文', '数学', '英语']\n",
    "df = pd.DataFrame(data=data, index=name, columns=columns)\n",
    "print(df.loc[(df['语文']>105)&(df['数学']>88)])"
   ]
  }
 ],
 "metadata": {
  "kernelspec": {
   "display_name": ".venv",
   "language": "python",
   "name": "python3"
  },
  "language_info": {
   "codemirror_mode": {
    "name": "ipython",
    "version": 3
   },
   "file_extension": ".py",
   "mimetype": "text/x-python",
   "name": "python",
   "nbconvert_exporter": "python",
   "pygments_lexer": "ipython3",
   "version": "3.11.5"
  }
 },
 "nbformat": 4,
 "nbformat_minor": 2
}
